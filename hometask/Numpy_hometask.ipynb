{
 "cells": [
  {
   "cell_type": "markdown",
   "id": "039bc774-3242-49de-8453-301fa26aeda3",
   "metadata": {},
   "source": [
    "## Kuklina Polina\n",
    "\n",
    "______________"
   ]
  },
  {
   "cell_type": "markdown",
   "id": "dad4f490-ea34-47b2-94cc-e85b6fb28afe",
   "metadata": {},
   "source": [
    "# 1 lesson\n",
    "\n",
    "# Lesson topic: Работа с типами данных в языке Python"
   ]
  },
  {
   "cell_type": "markdown",
   "id": "c8f4c22c-9c7b-4780-bf52-c0efa794bb58",
   "metadata": {},
   "source": [
    "### Домашнее задание"
   ]
  },
  {
   "cell_type": "code",
   "execution_count": 1,
   "id": "ab01ebca-cb29-489c-92b0-6c15e29de675",
   "metadata": {},
   "outputs": [],
   "source": [
    "import array, numpy as np"
   ]
  },
  {
   "cell_type": "markdown",
   "id": "1e3f51f8-660e-485e-a3d2-0cb12fe0ce7e",
   "metadata": {},
   "source": [
    "### Задача 1: Создайте одномерный массив из 5 целых чисел от 0 до 4.\n",
    "\n",
    "Sample Input:\n",
    "\n",
    "Sample Output:\n",
    "\n",
    "[0 1 2 3 4]"
   ]
  },
  {
   "cell_type": "code",
   "execution_count": 2,
   "id": "ed47b99f-5850-44c6-bfff-39a8c90e6494",
   "metadata": {},
   "outputs": [
    {
     "data": {
      "text/plain": [
       "array([0, 1, 2, 3, 4])"
      ]
     },
     "execution_count": 2,
     "metadata": {},
     "output_type": "execute_result"
    }
   ],
   "source": [
    "np.array(range(5))"
   ]
  },
  {
   "cell_type": "markdown",
   "id": "038db20a-e9b2-4fca-8b8a-78bf9e7c9ed2",
   "metadata": {},
   "source": [
    "### Задача 2: Создайте массив размером 3x2, заполненный единицами."
   ]
  },
  {
   "cell_type": "code",
   "execution_count": 3,
   "id": "c9ef9986-5098-4b23-ad2f-bc06635e691a",
   "metadata": {},
   "outputs": [
    {
     "data": {
      "text/plain": [
       "array([[1, 1],\n",
       "       [1, 1],\n",
       "       [1, 1]])"
      ]
     },
     "execution_count": 3,
     "metadata": {},
     "output_type": "execute_result"
    }
   ],
   "source": [
    "np.ones((3, 2), dtype = int)"
   ]
  },
  {
   "cell_type": "markdown",
   "id": "8629a7dd-b6c3-45d8-ba4c-4766fd7ce6b2",
   "metadata": {},
   "source": [
    "### Задача 3: Создайте массив размером 2x3, заполненного значением 7."
   ]
  },
  {
   "cell_type": "code",
   "execution_count": 4,
   "id": "2f3801a1-6867-4586-82b1-cf4e16532a1d",
   "metadata": {},
   "outputs": [
    {
     "data": {
      "text/plain": [
       "array([[7, 7, 7],\n",
       "       [7, 7, 7]])"
      ]
     },
     "execution_count": 4,
     "metadata": {},
     "output_type": "execute_result"
    }
   ],
   "source": [
    "np.full((2, 3), 7)"
   ]
  },
  {
   "cell_type": "markdown",
   "id": "cc91c89a-f6f4-40ce-b1bb-01d628ee5e1b",
   "metadata": {},
   "source": [
    "### Задача 4: Создайте массив из 5 строк и 2 столбцов, содержащий только булевы значения True.\n",
    "\n",
    "Sample Input:\n",
    "\n",
    "Sample Output:\n",
    "\n",
    "[[ True  True]\n",
    " \n",
    " [ True  True]\n",
    " \n",
    " [ True  True]\n",
    " \n",
    " [ True  True]\n",
    " \n",
    " [ True  True]]"
   ]
  },
  {
   "cell_type": "code",
   "execution_count": 5,
   "id": "d68fbac3-4567-49be-8e76-825da6d81020",
   "metadata": {},
   "outputs": [
    {
     "data": {
      "text/plain": [
       "array([[ True,  True],\n",
       "       [ True,  True],\n",
       "       [ True,  True],\n",
       "       [ True,  True],\n",
       "       [ True,  True]])"
      ]
     },
     "execution_count": 5,
     "metadata": {},
     "output_type": "execute_result"
    }
   ],
   "source": [
    "np.full((5, 2), True)"
   ]
  },
  {
   "cell_type": "markdown",
   "id": "27cc821c-4b1a-4f25-a1d7-0e826a263cef",
   "metadata": {},
   "source": [
    "### Задача 5: Как создать массив из 5 равномерно распределенных значений между 0 и 1 с использованием np.linspace()?\n",
    "\n",
    "● np.linspace((0, 1), 5)\n",
    "\n",
    "● np.linspace(0, 1, 5)\n",
    "\n",
    "● np.linspace(0, 1, step=5)\n",
    "\n",
    "● np.linspace([0, 1], 5)"
   ]
  },
  {
   "cell_type": "code",
   "execution_count": 6,
   "id": "c5447cc7-2d60-467f-9ec9-55b8e85dcdab",
   "metadata": {},
   "outputs": [
    {
     "data": {
      "text/plain": [
       "array([0.  , 0.25, 0.5 , 0.75, 1.  ])"
      ]
     },
     "execution_count": 6,
     "metadata": {},
     "output_type": "execute_result"
    }
   ],
   "source": [
    "np.linspace(0, 1, 5)"
   ]
  },
  {
   "cell_type": "markdown",
   "id": "2c7da469-c753-4cbb-acfb-d6acb0578975",
   "metadata": {},
   "source": [
    "# 2 lesson\n",
    "\n",
    "# Lesson topic: Введение в массивы библиотеки NumPy"
   ]
  },
  {
   "cell_type": "markdown",
   "id": "812d9435-4eaa-435c-b42a-44a6de289ec8",
   "metadata": {},
   "source": [
    "### Домашнее задание"
   ]
  },
  {
   "cell_type": "markdown",
   "id": "9881d4f9-2e46-4c08-9014-302e1fd371ec",
   "metadata": {},
   "source": [
    "### Задача 1: Создайте трехмерный массив (каждый массив должен содержать две строки и четыре столбца) и определите его количество измерений.\n",
    "\n",
    "Sample Input:\n",
    "\n",
    "Sample Output:\n",
    "\n",
    "[[[0. 0. 0. 0.]\n",
    "  \n",
    "  [0. 0. 0. 0.]]\n",
    "\n",
    " [[0. 0. 0. 0.]\n",
    "  \n",
    "  [0. 0. 0. 0.]]\n",
    "\n",
    " [[0. 0. 0. 0.]\n",
    "  \n",
    "  [0. 0. 0. 0.]]]\n",
    "\n",
    "Количество измерений: 3"
   ]
  },
  {
   "cell_type": "code",
   "execution_count": 7,
   "id": "8a136cd9-d6d2-493a-94e5-7562c6f92389",
   "metadata": {},
   "outputs": [
    {
     "name": "stdout",
     "output_type": "stream",
     "text": [
      "[[[None None None None]\n",
      "  [None None None None]]\n",
      "\n",
      " [[None None None None]\n",
      "  [None None None None]]\n",
      "\n",
      " [[None None None None]\n",
      "  [None None None None]]]\n",
      "Количество измерений: 3\n"
     ]
    }
   ],
   "source": [
    "mass = np.full((3, 2, 4), None)\n",
    "print(mass)\n",
    "print(f\"Количество измерений: {mass.ndim}\")"
   ]
  },
  {
   "cell_type": "markdown",
   "id": "fd361c24-4aa5-4c77-8de8-9e27fed56e1c",
   "metadata": {},
   "source": [
    "### Задача 2: Вы хотите создать массив arr с числами от 1 до 3, включительно, и указать явно тип данных целых чисел.\n",
    "\n",
    "Sample Input:\n",
    "\n",
    "Sample Output:\n",
    "\n",
    "Массив целых чисел: [1 2 3]\n",
    "\n",
    "Тип данных: int64"
   ]
  },
  {
   "cell_type": "code",
   "execution_count": 8,
   "id": "9dfd28fc-c74b-447c-8152-92797911c80d",
   "metadata": {},
   "outputs": [
    {
     "name": "stdout",
     "output_type": "stream",
     "text": [
      "Массив целых чисел: [1 2 3]\n",
      "Тип данных: int64\n"
     ]
    }
   ],
   "source": [
    "arr = np.array(range(1,4))\n",
    "print(f\"Массив целых чисел: {arr}\")\n",
    "print(f\"Тип данных: {arr.dtype}\")"
   ]
  },
  {
   "cell_type": "markdown",
   "id": "764c803e-6875-4b99-b280-875e3b04e185",
   "metadata": {},
   "source": [
    "### Задача 3: Выведите все элементы в нечетных столбцах.\n",
    "\n",
    "Sample Input:\n",
    "\n",
    "arr = np.array([[1, 2, 3, 4],\n",
    "                \n",
    "            [5, 6, 7, 8],\n",
    "                \n",
    "            [9, 10, 11, 12],\n",
    "                \n",
    "            [13, 14, 15, 16]])\n",
    "\n",
    "Sample Output:\n",
    "\n",
    "Элементы с нечетными столбцами:\n",
    "[[ 1  3]\n",
    " \n",
    " [ 5  7]\n",
    " \n",
    " [ 9 11]\n",
    " \n",
    " [13 15]]"
   ]
  },
  {
   "cell_type": "code",
   "execution_count": 9,
   "id": "aea9f031-7158-4da3-9a9a-51fe7dd33bc5",
   "metadata": {},
   "outputs": [
    {
     "name": "stdout",
     "output_type": "stream",
     "text": [
      "Элементы с нечетными столбцами: [[ 1  3]\n",
      " [ 5  7]\n",
      " [ 9 11]\n",
      " [13 15]]\n"
     ]
    }
   ],
   "source": [
    "arr = np.array([[1, 2, 3, 4],\n",
    "                [5, 6, 7, 8],\n",
    "                [9, 10, 11, 12],\n",
    "                [13, 14, 15, 16]])\n",
    "print(f\"Элементы с нечетными столбцами: {arr[:, ::2]}\") "
   ]
  },
  {
   "cell_type": "markdown",
   "id": "7b68ae3c-33a3-4992-b8b9-9fecf063c780",
   "metadata": {},
   "source": [
    "### Задача 4: Выделите подматрицу, состоящую из второй и третьей строк, а также третьего и четвёртого столбцов.\n",
    "\n",
    "Sample Input:\n",
    "\n",
    "matrix = np.array([[1, 2, 3, 4],\n",
    "                \n",
    "                [5, 6, 7, 8],\n",
    "                \n",
    "                [9, 10, 11, 12],\n",
    "                \n",
    "                [13, 14, 15, 16]])\n",
    "\n",
    "Sample Output:\n",
    "\n",
    "Матрица из второй и третьей строк, а также третьего и четвёртого столбцов:\n",
    "\n",
    "[[ 7  8]\n",
    " \n",
    " [11 12]]"
   ]
  },
  {
   "cell_type": "code",
   "execution_count": 10,
   "id": "bd672754-4c6d-40da-87ff-b30f59daec2d",
   "metadata": {},
   "outputs": [
    {
     "name": "stdout",
     "output_type": "stream",
     "text": [
      "Матрица из второй и третьей строк, а также третьего и четвёртого столбцов: \n",
      "[[ 7  8]\n",
      " [11 12]]\n"
     ]
    }
   ],
   "source": [
    "matrix = np.array([[1, 2, 3, 4],\n",
    "                   [5, 6, 7, 8],\n",
    "                   [9, 10, 11, 12],\n",
    "                   [13, 14, 15, 16]])\n",
    "print(f\"Матрица из второй и третьей строк, а также третьего и четвёртого столбцов: \\n{arr[1:3, 2:5]}\") "
   ]
  },
  {
   "cell_type": "markdown",
   "id": "72bfa9fe-7f3d-41d1-9a05-5d74142eea06",
   "metadata": {},
   "source": [
    "### Задача 5: Выберите подматрицу 2x2 в верхнем левом углу для каждой матрицы\n",
    "\n",
    "Sample Input:\n",
    "\n",
    "tensor = np.array([[[1, 2, 3],\n",
    "                \n",
    "                [4, 5, 6],\n",
    "                \n",
    "                [7, 8, 9]],\n",
    "\n",
    "                \n",
    "                [[10, 11, 12],\n",
    "                \n",
    "                [13, 14, 15],\n",
    "                \n",
    "                [16, 17, 18]],\n",
    "\n",
    "                \n",
    "                [[19, 20, 21],\n",
    "                \n",
    "                [22, 23, 24],\n",
    "                \n",
    "                [25, 26, 27]]])\n",
    "\n",
    "Sample Output:\n",
    "\n",
    "Подматрица 2x2 в верхнем левом углу для каждой матрицы:\n",
    "\n",
    "[[[ 1  2]\n",
    "  \n",
    "  [ 4  5]]\n",
    "\n",
    " [[10 11]\n",
    "  \n",
    "  [13 14]]\n",
    "\n",
    " [[19 20]\n",
    "  \n",
    "  [22 23]]]"
   ]
  },
  {
   "cell_type": "code",
   "execution_count": 11,
   "id": "38c35855-4de0-4edc-a5c6-5437eef5c9f9",
   "metadata": {},
   "outputs": [
    {
     "name": "stdout",
     "output_type": "stream",
     "text": [
      "Подматрица 2x2 в верхнем левом углу для каждой матрицы:: \n",
      "[[[ 1  2]\n",
      "  [ 4  5]]\n",
      "\n",
      " [[10 11]\n",
      "  [13 14]]\n",
      "\n",
      " [[19 20]\n",
      "  [22 23]]]\n"
     ]
    }
   ],
   "source": [
    "tensor = np.array([[[1, 2, 3],\n",
    "                    [4, 5, 6],\n",
    "                    [7, 8, 9]],\n",
    "                   [[10, 11, 12],\n",
    "                    [13, 14, 15],\n",
    "                    [16, 17, 18]],\n",
    "                   [[19, 20, 21],\n",
    "                    [22, 23, 24],\n",
    "                    [25, 26, 27]]])\n",
    "\n",
    "print(f\"Подматрица 2x2 в верхнем левом углу для каждой матрицы:: \\n{tensor[:, 0:2, 0:2]}\") "
   ]
  },
  {
   "cell_type": "markdown",
   "id": "7bc66ad7",
   "metadata": {},
   "source": [
    "# 3 lesson\n",
    "\n",
    "# Lesson topic: Выполнение вычислений над массивами библиотеки NumPy: \n",
    "\n",
    "# универсальные функции"
   ]
  },
  {
   "cell_type": "markdown",
   "id": "10be5cf3-7c70-4dec-b061-a28ea061d8c9",
   "metadata": {},
   "source": [
    "### Домашнее задание"
   ]
  },
  {
   "cell_type": "markdown",
   "id": "e10372f3-159d-40cd-8636-6f9718bf7595",
   "metadata": {},
   "source": [
    "### Задача 1: Есть массив arr1  размером 3x3. Выполните поэлементное деление массива на 2 и сохраните результат в result_divide.\n",
    "\n",
    "Sample Input:\n",
    "\n",
    "arr1 = np.array([[8, 8, 4], \n",
    "                \n",
    "            [4, 2, 2], \n",
    "                \n",
    "            [10, 10, 2]])\n",
    "\n",
    "Sample Output:\n",
    "\n",
    "[[4. 4. 2.]\n",
    " \n",
    " [2. 1. 1.]\n",
    " \n",
    " [5. 5. 1.]]"
   ]
  },
  {
   "cell_type": "code",
   "execution_count": 12,
   "id": "22909cd0-312f-4c78-87eb-3f32bb65c66e",
   "metadata": {},
   "outputs": [
    {
     "data": {
      "text/plain": [
       "array([[4., 4., 2.],\n",
       "       [2., 1., 1.],\n",
       "       [5., 5., 1.]])"
      ]
     },
     "execution_count": 12,
     "metadata": {},
     "output_type": "execute_result"
    }
   ],
   "source": [
    "arr1 = np.array([[8, 8, 4],\n",
    "                 [4, 2, 2], \n",
    "                 [10, 10, 2]])\n",
    "result_divide = np.divide(arr1, 2)\n",
    "result_divide"
   ]
  },
  {
   "cell_type": "markdown",
   "id": "6fd5be1a-a0e8-4ee4-859a-1b13107e9582",
   "metadata": {},
   "source": [
    "### Задача 2: Есть массив arr1  размером 3x3. Возведи все элементы массива в квадрат и сохраните результат в result_double.\n",
    "\n",
    "Sample Input:\n",
    "\n",
    "arr1 = np.array([[1, 2, 3], \n",
    "            \n",
    "            [4, 5, 6], \n",
    "            \n",
    "            [7, 8, 9]])\n",
    "\n",
    "Sample Output:\n",
    "\n",
    "[[ 1  4  9]\n",
    " \n",
    " [16 25 36]\n",
    " \n",
    " [49 64 81]]"
   ]
  },
  {
   "cell_type": "code",
   "execution_count": 10,
   "id": "32302379-2094-4811-88ca-14ed9047d1b9",
   "metadata": {},
   "outputs": [
    {
     "data": {
      "text/plain": [
       "array([[ 1,  4,  9],\n",
       "       [16, 25, 36],\n",
       "       [49, 64, 81]])"
      ]
     },
     "execution_count": 10,
     "metadata": {},
     "output_type": "execute_result"
    }
   ],
   "source": [
    "arr1 = np.array([[1, 2, 3],\n",
    "                 [4, 5, 6],\n",
    "                 [7, 8, 9]])\n",
    "result_double = arr1**2\n",
    "result_double"
   ]
  },
  {
   "cell_type": "markdown",
   "id": "d2efea3f-600a-44ad-925e-7883599eedde",
   "metadata": {},
   "source": [
    "### Задача 3: Выполните сложение матрицы и вектора\n",
    "\n",
    "Sample Input:\n",
    "\n",
    "matrix = np.array([[1, 2, 3], \n",
    "            \n",
    "                [4, 5, 6], \n",
    "            \n",
    "                [7, 8, 9]])\n",
    "\n",
    "Sample Output:\n",
    "\n",
    "[[ 1  3  5]\n",
    " \n",
    " [ 4  6  8]\n",
    " \n",
    " [ 7  9 11]]"
   ]
  },
  {
   "cell_type": "code",
   "execution_count": 29,
   "id": "e93de771-68c1-41a6-a0c7-087db7e808ba",
   "metadata": {},
   "outputs": [
    {
     "data": {
      "text/plain": [
       "array([[ 1,  3,  5],\n",
       "       [ 4,  6,  8],\n",
       "       [ 7,  9, 11]])"
      ]
     },
     "execution_count": 29,
     "metadata": {},
     "output_type": "execute_result"
    }
   ],
   "source": [
    "matrix = np.array([[1, 2, 3],\n",
    "                   [4, 5, 6], \n",
    "                   [7, 8, 9]])\n",
    "np.add(matrix, [0, 1, 2])"
   ]
  },
  {
   "cell_type": "markdown",
   "id": "0c713509-aac6-4645-ac73-1b079222caab",
   "metadata": {},
   "source": [
    "### Задача 4: Выполните вычитание матриц matrix_c и matrix_d . \n",
    "\n",
    "matrix_c = np.array([[10, 20, 30], \n",
    "                     \n",
    "                [40, 50, 60], \n",
    "                \n",
    "                [70, 80, 90]])\n",
    "\n",
    "Создайте matrix_d с такими значениями, чтобы получить в итоге вычитания такую матрицу:\n",
    "\n",
    "[[ 9 18 27]\n",
    " \n",
    " [39 48 57]\n",
    " \n",
    " [69 78 87]]"
   ]
  },
  {
   "cell_type": "code",
   "execution_count": 25,
   "id": "0842e9fd-bbfe-41ce-b3bd-0aacfbc8d8d1",
   "metadata": {},
   "outputs": [
    {
     "data": {
      "text/plain": [
       "array([[ 9, 18, 27],\n",
       "       [39, 48, 57],\n",
       "       [69, 78, 87]])"
      ]
     },
     "execution_count": 25,
     "metadata": {},
     "output_type": "execute_result"
    }
   ],
   "source": [
    "matrix_c = np.array([[10, 20, 30],\n",
    "                     [40, 50, 60], \n",
    "                     [70, 80, 90]])\n",
    "matrix_d = np.array([ 1,  2,  3])\n",
    "matrix_c - matrix_d"
   ]
  },
  {
   "cell_type": "markdown",
   "id": "e3c2fac9-9751-4ae2-bef6-2a29e72cd09a",
   "metadata": {},
   "source": [
    "### Задача 5: Выполните умножение матриц matrix_e и matrix_f . Создайте matrix_f с такими значениями, чтобы получить в итоге умножения такую матрицу:\n",
    "\n",
    "[[ 2 8]\n",
    "  \n",
    "  [18 32]]\n",
    "\n",
    "Sample Input:\n",
    "\n",
    "matrix_e = np.array([[2, 4], \n",
    "                \n",
    "                [6, 8]])\n",
    "\n",
    "Sample Output:\n",
    "\n",
    "[[ 2  8]\n",
    " \n",
    " [18 32]]"
   ]
  },
  {
   "cell_type": "code",
   "execution_count": 30,
   "id": "a4c43faa-4c7e-4f9c-be36-2241a24c1280",
   "metadata": {},
   "outputs": [
    {
     "data": {
      "text/plain": [
       "array([[ 2,  8],\n",
       "       [18, 32]])"
      ]
     },
     "execution_count": 30,
     "metadata": {},
     "output_type": "execute_result"
    }
   ],
   "source": [
    "matrix_e = np.array([[2, 4],\n",
    "                     [6, 8]])\n",
    "matrix_f = np.array([[ 1, 2],\n",
    "                     [3, 4]])\n",
    "np.multiply(matrix_e, matrix_f)"
   ]
  },
  {
   "cell_type": "markdown",
   "id": "49d015f4-be90-44e6-808c-a304dd0ab57d",
   "metadata": {},
   "source": [
    "### Задача 6: Вычислите квадратные корни для каждого элемента.\n",
    "\n",
    "Sample Input:\n",
    "\n",
    "array = np.array([4, 9, 16, 25])\n",
    "\n",
    "Sample Output:\n",
    "\n",
    "[2. 3. 4. 5.]"
   ]
  },
  {
   "cell_type": "code",
   "execution_count": 31,
   "id": "9ebb7878-b438-4cee-8aba-00e257c4067c",
   "metadata": {},
   "outputs": [
    {
     "data": {
      "text/plain": [
       "array([2., 3., 4., 5.])"
      ]
     },
     "execution_count": 31,
     "metadata": {},
     "output_type": "execute_result"
    }
   ],
   "source": [
    "array = np.array([4, 9, 16, 25])\n",
    "np.power(array, 0.5)"
   ]
  },
  {
   "cell_type": "markdown",
   "id": "ae89a030-a27b-4e0f-83fb-eaa3ea2be0ad",
   "metadata": {},
   "source": [
    "### Задача 7: Возведите каждый элемент в квадрат.\n",
    "\n",
    "Sample Input:\n",
    "\n",
    "array = np.array([2, 4, 6, 8])\n",
    "\n",
    "Sample Output:\n",
    "\n",
    "[ 4 16 36 64]"
   ]
  },
  {
   "cell_type": "code",
   "execution_count": 32,
   "id": "a56ebcc3-0294-4dfe-abee-a42df94f296d",
   "metadata": {},
   "outputs": [
    {
     "data": {
      "text/plain": [
       "array([ 4, 16, 36, 64])"
      ]
     },
     "execution_count": 32,
     "metadata": {},
     "output_type": "execute_result"
    }
   ],
   "source": [
    "array = np.array([2, 4, 6, 8])\n",
    "np.power(array, 2)"
   ]
  },
  {
   "cell_type": "markdown",
   "id": "af84e991-3b7a-4bbb-885b-a2a771831bf6",
   "metadata": {},
   "source": [
    "### Задача 8: Напишите программу, которая выполняет операцию возведения каждого элемента \n",
    "\n",
    "### первого массива nums_base в степень соответствующего элемента второго массива exponents.\n",
    "\n",
    "Sample Input:\n",
    "\n",
    "nums_base = np.array([2, 3, 4, 5])\n",
    "\n",
    "exponents = np.array([3, 2, 1, 4])\n",
    "\n",
    "Sample Output:\n",
    "\n",
    "Результат возведения в степень: [  8   9   4 625]"
   ]
  },
  {
   "cell_type": "code",
   "execution_count": 36,
   "id": "ed6f1720-1c37-4f55-ac1a-f2614528a02e",
   "metadata": {},
   "outputs": [
    {
     "name": "stdout",
     "output_type": "stream",
     "text": [
      "Результат возведения в степень: [  8   9   4 625]\n"
     ]
    }
   ],
   "source": [
    "nums_base = np.array([2, 3, 4, 5])\n",
    "exponents = np.array([3, 2, 1, 4])\n",
    "print(f\"Результат возведения в степень: {np.power(nums_base,exponents)}\")"
   ]
  },
  {
   "cell_type": "markdown",
   "id": "685ef6a1-7cef-44bb-ab6f-1da996774c5f",
   "metadata": {},
   "source": [
    "### Задача 9: У вас есть два массива: \n",
    "\n",
    "array1 = np.array([10, 15, 8, 20]) и \n",
    "\n",
    "array2 = np.array([5, 12, 15, 10]). \n",
    "\n",
    "### Напишите программу для нахождения максимальных значений из этих двух массивов поэлементно.\n",
    "\n",
    "Sample Input:\n",
    "\n",
    "Sample Output:\n",
    "\n",
    "Максимальные значения поэлементно: [10 15 15 20]"
   ]
  },
  {
   "cell_type": "code",
   "execution_count": 38,
   "id": "8f10c267-874f-4438-a78a-eb722fc879ce",
   "metadata": {},
   "outputs": [
    {
     "name": "stdout",
     "output_type": "stream",
     "text": [
      "Максимальные значения поэлементно: [10 15 15 20]\n"
     ]
    }
   ],
   "source": [
    "array1 = np.array([10, 15, 8, 20])\n",
    "array2 = np.array([5, 12, 15, 10])\n",
    "print(f\"Максимальные значения поэлементно: {np.maximum(array1, array2)}\")"
   ]
  },
  {
   "cell_type": "markdown",
   "id": "ffa46e24-5dc9-43ac-8854-daea7564eaa5",
   "metadata": {},
   "source": [
    "### Задача 10: Напишите программу для выполнения поэлементного умножения массивов.\n",
    "\n",
    "Sample Input:\n",
    "\n",
    "Sample Output:\n",
    "\n",
    "Результат умножения массивов: [10 12 12 10]"
   ]
  },
  {
   "cell_type": "code",
   "execution_count": 40,
   "id": "1d93c790-e8c7-4b99-b96e-2701b41f3b98",
   "metadata": {},
   "outputs": [
    {
     "name": "stdout",
     "output_type": "stream",
     "text": [
      "Результат умножения массивов: [10 12 12 10]\n"
     ]
    }
   ],
   "source": [
    "array1 = np.array([5, 2, 6, 10])\n",
    "array2 = np.array([2, 6, 2, 1])\n",
    "print(f\"Результат умножения массивов: {np.multiply(array1, array2)}\")"
   ]
  },
  {
   "cell_type": "markdown",
   "id": "de69b601-bbb3-4d4b-8e51-c13ce21c521c",
   "metadata": {},
   "source": [
    "### Задача 11: Умножьте две матрицы arr1 и arr2, затем транспонируйте результат.\n",
    "\n",
    "Sample Input:\n",
    "\n",
    "arr1 = np.array([[1, 2],\n",
    "                 \n",
    "            [3, 4]])\n",
    "\n",
    "arr2 = np.array([[5, 6],\n",
    "                 \n",
    "            [7, 8]])\n",
    "\n",
    "Sample Output:\n",
    "\n",
    "Транспонированный результат умножения:\n",
    "\n",
    "[[19 43]\n",
    " \n",
    " [22 50]]"
   ]
  },
  {
   "cell_type": "code",
   "execution_count": 45,
   "id": "599030a4-562b-412e-950e-5ee1518757b9",
   "metadata": {},
   "outputs": [
    {
     "name": "stdout",
     "output_type": "stream",
     "text": [
      "Транспонированный результат умножения:\n",
      "[[19 43]\n",
      " [22 50]]\n"
     ]
    }
   ],
   "source": [
    "arr1 = np.array([[1, 2],\n",
    "                 [3, 4]])\n",
    "arr2 = np.array([[5, 6],\n",
    "                 [7, 8]])\n",
    "print(f\"Транспонированный результат умножения:\\n{np.transpose(np.dot(arr1, arr2))}\")"
   ]
  },
  {
   "cell_type": "markdown",
   "id": "18c7991c",
   "metadata": {},
   "source": [
    "# 4 lesson\n",
    "\n",
    "# Lesson topic: Операции над массивами. Транслирование"
   ]
  },
  {
   "cell_type": "markdown",
   "id": "493b6ebc-503c-4e06-80d9-f4b6d0ba109d",
   "metadata": {},
   "source": [
    "### Домашнее задание"
   ]
  },
  {
   "cell_type": "markdown",
   "id": "9526ba30-b0cf-4671-bd58-f843f7f6f810",
   "metadata": {},
   "source": [
    "### Задача 1. Представьте, что у нас имеются два массива с разным числом элементов:\n",
    "\n",
    "a = np.array([1, 2, 3, 10, 20, 30])\n",
    "\n",
    "b = np.array([2])\n",
    "\n",
    "Можем ли мы выполнять арифметическую операцию с такими объектами?\n",
    "\n",
    "a*b "
   ]
  },
  {
   "cell_type": "code",
   "execution_count": 50,
   "id": "d3efcfd2-1d13-434f-a0c1-1ef231cac6f8",
   "metadata": {},
   "outputs": [
    {
     "data": {
      "text/plain": [
       "array([ 2,  4,  6, 20, 40, 60])"
      ]
     },
     "execution_count": 50,
     "metadata": {},
     "output_type": "execute_result"
    }
   ],
   "source": [
    "# Да, так как матрица b будет транслирована до размера матрицы a\n",
    "a = np.array([1, 2, 3, 10, 20, 30])\n",
    "b = np.array([2])\n",
    "np.multiply(a, b)"
   ]
  },
  {
   "cell_type": "markdown",
   "id": "ec6527f1-032f-4e5d-acf3-a8095f9f90d2",
   "metadata": {},
   "source": [
    "### Задача 2. Представьте, что у нас имеются два массива с разным числом элементов:\n",
    "\n",
    "a = np.array([1, 2, 3, 10, 20, 30])\n",
    "\n",
    "b = np.array([2])\n",
    "\n",
    "Можем ли мы выполнять арифметическую операцию с такими объектами?\n",
    "\n",
    "a+b "
   ]
  },
  {
   "cell_type": "code",
   "execution_count": 51,
   "id": "843017eb-6085-4001-b9dc-b6c62e30b9e3",
   "metadata": {},
   "outputs": [
    {
     "data": {
      "text/plain": [
       "array([ 3,  4,  5, 12, 22, 32])"
      ]
     },
     "execution_count": 51,
     "metadata": {},
     "output_type": "execute_result"
    }
   ],
   "source": [
    "# Да, так как матрица b будет транслирована до размера матрицы a\n",
    "a = np.array([1, 2, 3, 10, 20, 30])\n",
    "b = np.array([2])\n",
    "np.add(a, b)"
   ]
  },
  {
   "cell_type": "markdown",
   "id": "a1e65fde-0b84-4464-b6e6-244d9207b669",
   "metadata": {},
   "source": [
    "### Задача 3. Представьте, что у нас имеются два массива с разным числом элементов:\n",
    "\n",
    "a = np.array([1, 2, 3, 10, 20, 30])\n",
    "\n",
    "b = np.array([2, 3])\n",
    "\n",
    "Можем ли мы выполнять арифметическую операцию с такими объектами?\n",
    "\n",
    "a-b "
   ]
  },
  {
   "cell_type": "code",
   "execution_count": 53,
   "id": "9603e5ce-1d80-46ae-915a-c40c336e031c",
   "metadata": {},
   "outputs": [
    {
     "ename": "ValueError",
     "evalue": "operands could not be broadcast together with shapes (6,) (2,) ",
     "output_type": "error",
     "traceback": [
      "\u001b[1;31m---------------------------------------------------------------------------\u001b[0m",
      "\u001b[1;31mValueError\u001b[0m                                Traceback (most recent call last)",
      "Cell \u001b[1;32mIn[53], line 4\u001b[0m\n\u001b[0;32m      2\u001b[0m a \u001b[38;5;241m=\u001b[39m np\u001b[38;5;241m.\u001b[39marray([\u001b[38;5;241m1\u001b[39m, \u001b[38;5;241m2\u001b[39m, \u001b[38;5;241m3\u001b[39m, \u001b[38;5;241m10\u001b[39m, \u001b[38;5;241m20\u001b[39m, \u001b[38;5;241m30\u001b[39m])\n\u001b[0;32m      3\u001b[0m b \u001b[38;5;241m=\u001b[39m np\u001b[38;5;241m.\u001b[39marray([\u001b[38;5;241m2\u001b[39m,\u001b[38;5;241m3\u001b[39m])\n\u001b[1;32m----> 4\u001b[0m \u001b[43mnp\u001b[49m\u001b[38;5;241;43m.\u001b[39;49m\u001b[43msubtract\u001b[49m\u001b[43m(\u001b[49m\u001b[43ma\u001b[49m\u001b[43m,\u001b[49m\u001b[43m \u001b[49m\u001b[43mb\u001b[49m\u001b[43m)\u001b[49m\n",
      "\u001b[1;31mValueError\u001b[0m: operands could not be broadcast together with shapes (6,) (2,) "
     ]
    }
   ],
   "source": [
    "# Нет, так как матрицы имеют разную размерность и не одно из них не равно 1\n",
    "a = np.array([1, 2, 3, 10, 20, 30])\n",
    "b = np.array([2,3])\n",
    "np.subtract(a, b)"
   ]
  },
  {
   "cell_type": "markdown",
   "id": "103180db-e851-4073-905b-1b8a76460f25",
   "metadata": {},
   "source": [
    "### Задача 4. Представьте, что у нас имеются два массива с разным числом элементов:\n",
    "\n",
    "a = np.array([1, 2, 3, 10, 20, 30])\n",
    "\n",
    "b = np.array([2, 3])\n",
    "\n",
    "Можем ли мы выполнять арифметическую операцию с такими объектами?\n",
    "\n",
    "a/b "
   ]
  },
  {
   "cell_type": "code",
   "execution_count": 54,
   "id": "9ca4d1d3-ea6b-429c-a19a-555ccb412a3d",
   "metadata": {},
   "outputs": [
    {
     "ename": "ValueError",
     "evalue": "operands could not be broadcast together with shapes (6,) (2,) ",
     "output_type": "error",
     "traceback": [
      "\u001b[1;31m---------------------------------------------------------------------------\u001b[0m",
      "\u001b[1;31mValueError\u001b[0m                                Traceback (most recent call last)",
      "Cell \u001b[1;32mIn[54], line 4\u001b[0m\n\u001b[0;32m      2\u001b[0m a \u001b[38;5;241m=\u001b[39m np\u001b[38;5;241m.\u001b[39marray([\u001b[38;5;241m1\u001b[39m, \u001b[38;5;241m2\u001b[39m, \u001b[38;5;241m3\u001b[39m, \u001b[38;5;241m10\u001b[39m, \u001b[38;5;241m20\u001b[39m, \u001b[38;5;241m30\u001b[39m])\n\u001b[0;32m      3\u001b[0m b \u001b[38;5;241m=\u001b[39m np\u001b[38;5;241m.\u001b[39marray([\u001b[38;5;241m2\u001b[39m,\u001b[38;5;241m3\u001b[39m])\n\u001b[1;32m----> 4\u001b[0m \u001b[43mnp\u001b[49m\u001b[38;5;241;43m.\u001b[39;49m\u001b[43mdivide\u001b[49m\u001b[43m(\u001b[49m\u001b[43ma\u001b[49m\u001b[43m,\u001b[49m\u001b[43m \u001b[49m\u001b[43mb\u001b[49m\u001b[43m)\u001b[49m\n",
      "\u001b[1;31mValueError\u001b[0m: operands could not be broadcast together with shapes (6,) (2,) "
     ]
    }
   ],
   "source": [
    "# Нет, так как матрицы имеют разную размерность и не одно из них не равно 1\n",
    "a = np.array([1, 2, 3, 10, 20, 30])\n",
    "b = np.array([2,3])\n",
    "np.divide(a, b)"
   ]
  },
  {
   "cell_type": "markdown",
   "id": "30cdea2b",
   "metadata": {},
   "source": [
    "# 5 lesson\n",
    "\n",
    "# Lesson topic: Сравнения, маски и булева логика"
   ]
  },
  {
   "cell_type": "markdown",
   "id": "6894eb04-b2ec-477d-902b-ddb16c465d23",
   "metadata": {},
   "source": [
    "### Домашнее задание"
   ]
  },
  {
   "cell_type": "markdown",
   "id": "f6a05e20-a8c2-454a-ac77-074f2481d53d",
   "metadata": {},
   "source": [
    "### Задача 1.  Сколько значений массива меньше 10?\n",
    "\n",
    "Sample Input:\n",
    "\n",
    "rng = np.random.RandomState(0)\n",
    "\n",
    "x = rng.randint(25, size=(4, 7))\n",
    "\n",
    "x\n",
    "\n",
    "Sample Output:"
   ]
  },
  {
   "cell_type": "code",
   "execution_count": 59,
   "id": "a54ad84c-84f0-49ad-bfcc-cdf5cd44fe57",
   "metadata": {},
   "outputs": [
    {
     "name": "stdout",
     "output_type": "stream",
     "text": [
      "[[12 15 21  0  3  3  7]\n",
      " [ 9 19 21 18  4 23  6]\n",
      " [24 24 12  1  6  7 23]\n",
      " [14 24 17  5 13  8  9]]\n"
     ]
    },
    {
     "data": {
      "text/plain": [
       "13"
      ]
     },
     "execution_count": 59,
     "metadata": {},
     "output_type": "execute_result"
    }
   ],
   "source": [
    "rng = np.random.RandomState(0)\n",
    "x = rng.randint(25, size=(4, 7))\n",
    "print(x)\n",
    "np.count_nonzero(x < 10)"
   ]
  },
  {
   "cell_type": "markdown",
   "id": "f86cbff5-d7f4-4018-b516-c374770d1488",
   "metadata": {},
   "source": [
    "### Задача 2.  Найдите количество элементов массива больше 15?\n",
    "\n",
    "Sample Input:\n",
    "\n",
    "rng = np.random.RandomState(0)\n",
    "\n",
    "x = rng.randint(25, size=(4,7))\n",
    "\n",
    "x\n",
    "\n",
    "Sample Output:"
   ]
  },
  {
   "cell_type": "code",
   "execution_count": 60,
   "id": "2899abc6-7f70-4c15-846c-bc575a724772",
   "metadata": {},
   "outputs": [
    {
     "name": "stdout",
     "output_type": "stream",
     "text": [
      "[[12 15 21  0  3  3  7]\n",
      " [ 9 19 21 18  4 23  6]\n",
      " [24 24 12  1  6  7 23]\n",
      " [14 24 17  5 13  8  9]]\n"
     ]
    },
    {
     "data": {
      "text/plain": [
       "10"
      ]
     },
     "execution_count": 60,
     "metadata": {},
     "output_type": "execute_result"
    }
   ],
   "source": [
    "rng = np.random.RandomState(0)\n",
    "x = rng.randint(25, size=(4,7))\n",
    "print(x)\n",
    "np.count_nonzero(x > 15)"
   ]
  },
  {
   "cell_type": "markdown",
   "id": "0b4c61fe-5856-4037-9538-48ff7034563b",
   "metadata": {},
   "source": [
    "### Задача 3.  Найдите количество элементов массива больше 15 во всех столбцах?\n",
    "\n",
    "Sample Input:\n",
    "\n",
    "rng = np.random.RandomState(0)\n",
    "\n",
    "x = rng.randint(25, size=(4,7))\n",
    "\n",
    "x\n",
    "\n",
    "Sample Output:"
   ]
  },
  {
   "cell_type": "code",
   "execution_count": 63,
   "id": "660dd832-b700-4328-a646-ef01a4a98e26",
   "metadata": {},
   "outputs": [
    {
     "name": "stdout",
     "output_type": "stream",
     "text": [
      "[[12 15 21  0  3  3  7]\n",
      " [ 9 19 21 18  4 23  6]\n",
      " [24 24 12  1  6  7 23]\n",
      " [14 24 17  5 13  8  9]]\n"
     ]
    },
    {
     "data": {
      "text/plain": [
       "array([1, 3, 3, 1, 0, 1, 1])"
      ]
     },
     "execution_count": 63,
     "metadata": {},
     "output_type": "execute_result"
    }
   ],
   "source": [
    "rng = np.random.RandomState(0)\n",
    "x = rng.randint(25, size=(4,7))\n",
    "print(x)\n",
    "np.sum(x > 15, axis=0)"
   ]
  },
  {
   "cell_type": "markdown",
   "id": "6ac3fc92-45c9-4f84-ac68-b170f7b4065e",
   "metadata": {},
   "source": [
    "### Задача 4.  Имеются ли в массиве какие-либо значения больше 20?\n",
    "\n",
    "Sample Input:\n",
    "\n",
    "rng = np.random.RandomState(0)\n",
    "\n",
    "x = rng.randint(25, size=(4,7))\n",
    "\n",
    "x\n",
    "\n",
    "Sample Output:"
   ]
  },
  {
   "cell_type": "code",
   "execution_count": 64,
   "id": "0c51efc8-3239-4314-87f8-f6331be14efe",
   "metadata": {},
   "outputs": [
    {
     "name": "stdout",
     "output_type": "stream",
     "text": [
      "[[12 15 21  0  3  3  7]\n",
      " [ 9 19 21 18  4 23  6]\n",
      " [24 24 12  1  6  7 23]\n",
      " [14 24 17  5 13  8  9]]\n"
     ]
    },
    {
     "data": {
      "text/plain": [
       "np.True_"
      ]
     },
     "execution_count": 64,
     "metadata": {},
     "output_type": "execute_result"
    }
   ],
   "source": [
    "rng = np.random.RandomState(0)\n",
    "x = rng.randint(25, size=(4,7))\n",
    "print(x)\n",
    "np.any(x > 20)"
   ]
  },
  {
   "cell_type": "markdown",
   "id": "66c04921-36de-4eb6-827e-c4f85f50b60c",
   "metadata": {},
   "source": [
    "### Задача 5.  Все ли значения в каждой столбце больше или равно 10?\n",
    "\n",
    "Sample Input:\n",
    "\n",
    "rng = np.random.RandomState(0)\n",
    "\n",
    "x = rng.randint(25, size=(4,7))\n",
    "\n",
    "x\n",
    "\n",
    "Sample Output:"
   ]
  },
  {
   "cell_type": "code",
   "execution_count": 67,
   "id": "9427128f-3438-4e46-a1a2-54f1e5e2ad9f",
   "metadata": {},
   "outputs": [
    {
     "name": "stdout",
     "output_type": "stream",
     "text": [
      "[[12 15 21  0  3  3  7]\n",
      " [ 9 19 21 18  4 23  6]\n",
      " [24 24 12  1  6  7 23]\n",
      " [14 24 17  5 13  8  9]]\n"
     ]
    },
    {
     "data": {
      "text/plain": [
       "array([False,  True,  True, False, False, False, False])"
      ]
     },
     "execution_count": 67,
     "metadata": {},
     "output_type": "execute_result"
    }
   ],
   "source": [
    "rng = np.random.RandomState(0)\n",
    "x = rng.randint(25, size=(4,7))\n",
    "print(x)\n",
    "np.all(x >= 10, axis = 0)"
   ]
  },
  {
   "cell_type": "markdown",
   "id": "8f95de65",
   "metadata": {},
   "source": [
    "# 6 lesson\n",
    "\n",
    "# Lesson topic: Булевы операторы. «Прихотливая» индексация\n",
    "\n",
    "### Булевы операторы"
   ]
  },
  {
   "cell_type": "markdown",
   "id": "999f08c6-3141-41b2-87a0-d9b8c30cbbd0",
   "metadata": {},
   "source": [
    "### Домашнее задание"
   ]
  },
  {
   "cell_type": "markdown",
   "id": "debe4d76-28a7-41cc-bcd8-fa561082c826",
   "metadata": {},
   "source": [
    "### Задача 1: Выберите из 2D массива matrix все элементы, которые больше 5.\n",
    "\n",
    "Sample Input:\n",
    "\n",
    "matrix = np.array([[1, 2, 3],\n",
    "                \n",
    "                [4, 5, 6],\n",
    "                \n",
    "                [7, 8, 9]])\n",
    "\n",
    "Sample Output:\n",
    "\n",
    "[6 7 8 9]"
   ]
  },
  {
   "cell_type": "code",
   "execution_count": 71,
   "id": "f1d0f486-75b6-4c22-abb1-5fcc254d2bfb",
   "metadata": {},
   "outputs": [
    {
     "data": {
      "text/plain": [
       "array([6, 7, 8, 9])"
      ]
     },
     "execution_count": 71,
     "metadata": {},
     "output_type": "execute_result"
    }
   ],
   "source": [
    "matrix = np.array([[1, 2, 3],\n",
    "                   [4, 5, 6],\n",
    "                   [7, 8, 9]])\n",
    "matrix[(matrix > 5)]"
   ]
  },
  {
   "cell_type": "markdown",
   "id": "c8a948b3-2f82-49c6-9639-9a34572d14f7",
   "metadata": {},
   "source": [
    "### Задача 2: Инвертируйте булев массив arr.\n",
    "\n",
    "Sample Input:\n",
    "\n",
    "arr = np.array([True, False, True, False])\n",
    "\n",
    "Sample Output:\n",
    "\n",
    "[False  True False  True]"
   ]
  },
  {
   "cell_type": "code",
   "execution_count": 72,
   "id": "01592b47-4dd1-4bed-8eeb-88455a7888bf",
   "metadata": {},
   "outputs": [
    {
     "data": {
      "text/plain": [
       "array([False,  True, False,  True])"
      ]
     },
     "execution_count": 72,
     "metadata": {},
     "output_type": "execute_result"
    }
   ],
   "source": [
    "arr = np.array([True, False, True, False])\n",
    "np.bitwise_not(arr)"
   ]
  },
  {
   "cell_type": "markdown",
   "id": "227eb9db-3e45-4a58-9623-567d5b416d75",
   "metadata": {},
   "source": [
    "### Задача 3: Выберите из массива arr все числа больше 2 и меньше 6.\n",
    "\n",
    "Sample Input:\n",
    "\n",
    "arr = np.array([1, 2, 3, 4, 5, 6])\n",
    "\n",
    "Sample Output:\n",
    "\n",
    "[3 4 5]"
   ]
  },
  {
   "cell_type": "code",
   "execution_count": 73,
   "id": "d0bbdc9d-62fe-4923-ba5a-a38e967eec22",
   "metadata": {},
   "outputs": [
    {
     "data": {
      "text/plain": [
       "array([3, 4, 5])"
      ]
     },
     "execution_count": 73,
     "metadata": {},
     "output_type": "execute_result"
    }
   ],
   "source": [
    "arr = np.array([1, 2, 3, 4, 5, 6])\n",
    "arr[(arr > 2) & (arr < 6)]"
   ]
  },
  {
   "cell_type": "markdown",
   "id": "4b088ac9-b640-4f60-9ed3-817407da401a",
   "metadata": {},
   "source": [
    "### Задача 4: Покажите из массива arr все числа больше и равные 4.\n",
    "\n",
    "Sample Input:\n",
    "\n",
    "arr = np.array([1, 2, 3, 4, 5, 6])\n",
    "\n",
    "Sample Output:\n",
    "\n",
    "[4 5 6]"
   ]
  },
  {
   "cell_type": "code",
   "execution_count": 74,
   "id": "ad91ec7a-c1fd-4c55-83ac-54c92e99aea1",
   "metadata": {},
   "outputs": [
    {
     "data": {
      "text/plain": [
       "array([4, 5, 6])"
      ]
     },
     "execution_count": 74,
     "metadata": {},
     "output_type": "execute_result"
    }
   ],
   "source": [
    "arr = np.array([1, 2, 3, 4, 5, 6])\n",
    "arr[(arr >= 4)]"
   ]
  },
  {
   "cell_type": "markdown",
   "id": "2dbcafd9-b56d-446a-8bcf-e779709e1c3e",
   "metadata": {},
   "source": [
    "### Задача 5: Выберите из 2D массива matrix все элементы, которые делятся на 3.\n",
    "\n",
    "Sample Input:\n",
    "\n",
    "matrix = np.array([[1, 2, 3],\n",
    "                \n",
    "                [4, 5, 6],\n",
    "                \n",
    "                [7, 8, 9]])\n",
    "\n",
    "Sample Output:\n",
    "\n",
    "[3 6 9]"
   ]
  },
  {
   "cell_type": "code",
   "execution_count": 75,
   "id": "b6180c85-c8ba-4b9d-8f64-c1a62281d5ed",
   "metadata": {},
   "outputs": [
    {
     "data": {
      "text/plain": [
       "array([3, 6, 9])"
      ]
     },
     "execution_count": 75,
     "metadata": {},
     "output_type": "execute_result"
    }
   ],
   "source": [
    "matrix = np.array([[1, 2, 3],\n",
    "                   [4, 5, 6], \n",
    "                   [7, 8, 9]])\n",
    "matrix[(matrix % 3 == 0)]"
   ]
  },
  {
   "cell_type": "markdown",
   "id": "898703f8",
   "metadata": {},
   "source": [
    "# 7 lesson\n",
    "\n",
    "# Lesson topic: Комбинированная индексация. Быстрая сортировка в библиотеке NumPy: функции  np.sort и np.argsort\n",
    "\n",
    "### Комбинированная индексация"
   ]
  },
  {
   "cell_type": "markdown",
   "id": "4e642227-e926-41df-b356-3f6a8790b87f",
   "metadata": {},
   "source": [
    "### Домашнее задание"
   ]
  },
  {
   "cell_type": "markdown",
   "id": "08283cca-0979-457e-b0af-accd4fe466c6",
   "metadata": {},
   "source": [
    "### Задача 1: Дан массив чисел. Отсортируйте его по возрастанию.\n",
    "\n",
    "Sample Input:\n",
    "\n",
    "Sample Output:\n",
    "\n",
    "Исходный массив: [3 1 4 1 5 9 2 6]\n",
    "\n",
    "Отсортированный массив по возрастанию: [1 1 2 3 4 5 6 9]"
   ]
  },
  {
   "cell_type": "code",
   "execution_count": 78,
   "id": "87f378d9-8cdd-4322-908c-99a603ec986c",
   "metadata": {},
   "outputs": [
    {
     "name": "stdout",
     "output_type": "stream",
     "text": [
      "Отсортированный массив по возрастанию:[1 1 2 3 4 5 6 9]\n"
     ]
    }
   ],
   "source": [
    "arr = [3, 1, 4, 1, 5, 9, 2, 6]\n",
    "print(f\"Отсортированный массив по возрастанию:{np.sort(arr)}\")"
   ]
  },
  {
   "cell_type": "markdown",
   "id": "69cbbdad-6538-43d8-a171-918063feb0ae",
   "metadata": {},
   "source": [
    "### Задача 2: Найдите элементы, которые встречаются только в arr1, но не в arr2.\n",
    "\n",
    "Sample Input:\n",
    "\n",
    "arr1 = np.array([1, 2, 3, 4, 5])\n",
    "\n",
    "arr2 = np.array([3, 4, 5, 6, 7])\n",
    "\n",
    "Sample Output:\n",
    "\n",
    "Элементы, встречающиеся только в arr1: [1 2]"
   ]
  },
  {
   "cell_type": "code",
   "execution_count": 79,
   "id": "d4cf8e0c-8e13-4036-8ec0-b2149f62f623",
   "metadata": {},
   "outputs": [
    {
     "name": "stdout",
     "output_type": "stream",
     "text": [
      "Элементы, встречающиеся только в arr1:[1 2]\n"
     ]
    }
   ],
   "source": [
    "arr1 = np.array([1, 2, 3, 4, 5])\n",
    "arr2 = np.array([3, 4, 5, 6, 7])\n",
    "print(f\"Элементы, встречающиеся только в arr1:{np.setdiff1d(arr1, arr2)}\")"
   ]
  },
  {
   "cell_type": "markdown",
   "id": "adf64c7d-1066-4502-81c4-35232ddce1df",
   "metadata": {},
   "source": [
    "### Задача 3: Дан массив чисел. Отсортируйте массив и выведите первые k(4) элементов этого массива.\n",
    "\n",
    "Sample Input:\n",
    "\n",
    "arr = np.array([3, 1, 4, 1, 5, 9, 2, 6])\n",
    "\n",
    "k = 4\n",
    "\n",
    "Sample Output:\n",
    "\n",
    "Исходный массив: [3 1 4 1 5 9 2 6]\n",
    "Частично отсортированный массив (первые 4 элемента): [1 1 2 3]"
   ]
  },
  {
   "cell_type": "code",
   "execution_count": 80,
   "id": "7405e22d-0ca3-442d-9325-d6f08e7a8085",
   "metadata": {},
   "outputs": [
    {
     "name": "stdout",
     "output_type": "stream",
     "text": [
      "Частично отсортированный массив (первые 4 элемента): [1 1 2 3]\n"
     ]
    }
   ],
   "source": [
    "arr = np.array([3, 1, 4, 1, 5, 9, 2, 6])\n",
    "k = 4\n",
    "print(f\"Частично отсортированный массив (первые 4 элемента): {np.sort(arr)[:k]}\")"
   ]
  },
  {
   "cell_type": "markdown",
   "id": "879e56c9-129a-4614-92d4-1ccefb320a53",
   "metadata": {},
   "source": [
    "### Задача 4: Найдите элементы, которые встречаются только в одном из массивов, но не в обоих.\n",
    "\n",
    "Sample Input:\n",
    "\n",
    "arr1 = np.array([1, 2, 3, 4, 5])\n",
    "\n",
    "arr2 = np.array([3, 4, 5, 6, 7])\n",
    "\n",
    "Sample Output:\n",
    "\n",
    "Элементы, встречающиеся только в одном из массивов: [1 2 6 7]"
   ]
  },
  {
   "cell_type": "code",
   "execution_count": 81,
   "id": "076f333e-065a-4f87-89de-716ba0e693d1",
   "metadata": {},
   "outputs": [
    {
     "name": "stdout",
     "output_type": "stream",
     "text": [
      "Элементы, встречающиеся только в одном из массивов: [1 2 6 7]\n"
     ]
    }
   ],
   "source": [
    "arr1 = np.array([1, 2, 3, 4, 5])\n",
    "arr2 = np.array([3, 4, 5, 6, 7])\n",
    "print(f\"Элементы, встречающиеся только в одном из массивов: {np.setxor1d(arr1, arr2)}\")"
   ]
  },
  {
   "cell_type": "markdown",
   "id": "34b04ed3-3ae2-4122-b5c9-9b70347c4fd2",
   "metadata": {},
   "source": [
    "### Задача 5: Выведите уникальные элементы каждого массива, а затем найдите пересечение этих уникальных элементов.\n",
    "\n",
    "Sample Input:\n",
    "\n",
    "arr1 = np.array([1, 2, 'apple', 'orange', 5, 'orange', 'apple', 'orange'])\n",
    "\n",
    "arr2 = np.array([3, 'apple', 'banana', 6, 7, 1, 'mango'])\n",
    "\n",
    "Sample Output:\n",
    "\n",
    "Уникальные элементы arr1: ['1' '2' '5' 'apple' 'orange']\n",
    "\n",
    "Уникальные элементы arr2: ['1' '3' '6' '7' 'apple' 'banana' 'mango']\n",
    "\n",
    "Пересечение уникальных элементов: ['1' 'apple']"
   ]
  },
  {
   "cell_type": "code",
   "execution_count": 86,
   "id": "fb54fdae-e039-41a3-8058-5759f910d719",
   "metadata": {},
   "outputs": [
    {
     "name": "stdout",
     "output_type": "stream",
     "text": [
      "Уникальные элементы arr1:['1' '2' '5' 'apple' 'orange']\n",
      "Уникальные элементы arr2:['1' '3' '6' '7' 'apple' 'banana' 'mango']\n",
      "Пересечение уникальных элементов:['1' 'apple']\n"
     ]
    }
   ],
   "source": [
    "arr1 = np.array([1, 2, 'apple', 'orange', 5, 'orange', 'apple', 'orange'])\n",
    "arr2 = np.array([3, 'apple', 'banana', 6, 7, 1, 'mango'])\n",
    "print(f\"Уникальные элементы arr1:{np.unique(arr1)}\")\n",
    "print(f\"Уникальные элементы arr2:{np.unique(arr2)}\")\n",
    "print(f\"Пересечение уникальных элементов:{np.intersect1d(arr1, arr2)}\")"
   ]
  }
 ],
 "metadata": {
  "kernelspec": {
   "display_name": "Python 3 (ipykernel)",
   "language": "python",
   "name": "python3"
  },
  "language_info": {
   "codemirror_mode": {
    "name": "ipython",
    "version": 3
   },
   "file_extension": ".py",
   "mimetype": "text/x-python",
   "name": "python",
   "nbconvert_exporter": "python",
   "pygments_lexer": "ipython3",
   "version": "3.12.0"
  }
 },
 "nbformat": 4,
 "nbformat_minor": 5
}
