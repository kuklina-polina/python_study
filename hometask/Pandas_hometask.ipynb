{
 "cells": [
  {
   "cell_type": "markdown",
   "metadata": {},
   "source": [
    "## Kuklina Polina\n",
    "\n",
    "______________"
   ]
  },
  {
   "cell_type": "code",
   "execution_count": 1,
   "metadata": {},
   "outputs": [],
   "source": [
    "import numpy as np\n",
    "import pandas as pd"
   ]
  },
  {
   "cell_type": "markdown",
   "metadata": {},
   "source": [
    "# 1 lesson\n",
    "\n",
    "# Lesson topic: Знакомство с объектами библиотеки Pandas\n",
    "# Pandas"
   ]
  },
  {
   "cell_type": "markdown",
   "metadata": {},
   "source": [
    "### Домашнее задание"
   ]
  },
  {
   "cell_type": "markdown",
   "metadata": {},
   "source": [
    "### Задача 1: Создать Series из наипиевского массива без индекса.\n",
    "\n",
    "В этом случае индекс не передается, поэтому по умолчанию индексом будет range(n), где n — длина массива.\n",
    "\n",
    "data = np.array(['a', 'b', 'c', 'd', 'e']) "
   ]
  },
  {
   "cell_type": "code",
   "execution_count": 2,
   "metadata": {},
   "outputs": [
    {
     "data": {
      "text/plain": [
       "0    a\n",
       "1    b\n",
       "2    c\n",
       "3    d\n",
       "4    e\n",
       "dtype: object"
      ]
     },
     "execution_count": 2,
     "metadata": {},
     "output_type": "execute_result"
    }
   ],
   "source": [
    "data = np.array(['a', 'b', 'c', 'd', 'e'])\n",
    "pd.Series(data, range(len(data)))"
   ]
  },
  {
   "cell_type": "markdown",
   "metadata": {},
   "source": [
    "### Задача 2: Создать Series из словаря.\n",
    "\n",
    "Передан список индексов большей длины, чем количество ключей, присутствующих в словаре. \n",
    "\n",
    "В этом случае порядок индекса сохраняется, а отсутствующий элемент заполняется значением NaN (не число). \n",
    "\n",
    "dictionary = {'A': 50, 'B': 10, 'C': 80}\n",
    "\n",
    "index=['B', 'C', 'D', 'A']"
   ]
  },
  {
   "cell_type": "code",
   "execution_count": 3,
   "metadata": {},
   "outputs": [
    {
     "data": {
      "text/plain": [
       "B    10.0\n",
       "C    80.0\n",
       "D     NaN\n",
       "A    50.0\n",
       "dtype: float64"
      ]
     },
     "execution_count": 3,
     "metadata": {},
     "output_type": "execute_result"
    }
   ],
   "source": [
    "dictionary = {'A': 50, 'B': 10, 'C': 80}\n",
    "index = ['B', 'C', 'D', 'A']\n",
    "pd.Series(dictionary, index)"
   ]
  },
  {
   "cell_type": "markdown",
   "metadata": {},
   "source": [
    "### Задача 3: Создайть Series из списка с использованием 'index'аргумента.\n",
    "\n",
    "[10, 20, 30, 40, 50], \n",
    "\n",
    "index = ['a', 'b', 'c', 'd', 'e']\n"
   ]
  },
  {
   "cell_type": "code",
   "execution_count": 4,
   "metadata": {},
   "outputs": [
    {
     "data": {
      "text/plain": [
       "a    10\n",
       "b    20\n",
       "c    30\n",
       "d    40\n",
       "e    50\n",
       "dtype: int64"
      ]
     },
     "execution_count": 4,
     "metadata": {},
     "output_type": "execute_result"
    }
   ],
   "source": [
    "list_ = [10, 20, 30, 40, 50]\n",
    "index = ['a', 'b', 'c', 'd', 'e']\n",
    "pd.Series(list_, index=index)"
   ]
  },
  {
   "cell_type": "markdown",
   "metadata": {},
   "source": [
    "### Задача 4: Создайть из 2-х словарей 2 объекта Series, а из них создайте один объект Dataframe.\n",
    "\n",
    "dict1 = {'California': 100,\n",
    "\n",
    "                   'Texas': 200,\n",
    "                   \n",
    "                   'New York': 300,\n",
    "                   \n",
    "                   'Florida': 400,\n",
    "                   \n",
    "                   'Illinois': 500}\n",
    "\n",
    "dict2 = {'California': 'aaa', 'Texas': 'bbb', 'New York': 'ccc', 'Florida': 'ddd', 'Illinois': 'eee'}"
   ]
  },
  {
   "cell_type": "code",
   "execution_count": 5,
   "metadata": {},
   "outputs": [
    {
     "data": {
      "text/html": [
       "<div>\n",
       "<style scoped>\n",
       "    .dataframe tbody tr th:only-of-type {\n",
       "        vertical-align: middle;\n",
       "    }\n",
       "\n",
       "    .dataframe tbody tr th {\n",
       "        vertical-align: top;\n",
       "    }\n",
       "\n",
       "    .dataframe thead th {\n",
       "        text-align: right;\n",
       "    }\n",
       "</style>\n",
       "<table border=\"1\" class=\"dataframe\">\n",
       "  <thead>\n",
       "    <tr style=\"text-align: right;\">\n",
       "      <th></th>\n",
       "      <th>numbers</th>\n",
       "      <th>letters</th>\n",
       "    </tr>\n",
       "  </thead>\n",
       "  <tbody>\n",
       "    <tr>\n",
       "      <th>California</th>\n",
       "      <td>100</td>\n",
       "      <td>aaa</td>\n",
       "    </tr>\n",
       "    <tr>\n",
       "      <th>Texas</th>\n",
       "      <td>200</td>\n",
       "      <td>bbb</td>\n",
       "    </tr>\n",
       "    <tr>\n",
       "      <th>New York</th>\n",
       "      <td>300</td>\n",
       "      <td>ccc</td>\n",
       "    </tr>\n",
       "    <tr>\n",
       "      <th>Florida</th>\n",
       "      <td>400</td>\n",
       "      <td>ddd</td>\n",
       "    </tr>\n",
       "    <tr>\n",
       "      <th>Illinois</th>\n",
       "      <td>500</td>\n",
       "      <td>eee</td>\n",
       "    </tr>\n",
       "  </tbody>\n",
       "</table>\n",
       "</div>"
      ],
      "text/plain": [
       "            numbers letters\n",
       "California      100     aaa\n",
       "Texas           200     bbb\n",
       "New York        300     ccc\n",
       "Florida         400     ddd\n",
       "Illinois        500     eee"
      ]
     },
     "execution_count": 5,
     "metadata": {},
     "output_type": "execute_result"
    }
   ],
   "source": [
    "dict1 = {'California': 100,\n",
    "         'Texas': 200,\n",
    "         'New York': 300,\n",
    "         'Florida': 400,\n",
    "         'Illinois': 500}\n",
    "dict2 = {'California': 'aaa', 'Texas': 'bbb', 'New York': 'ccc', 'Florida': 'ddd', 'Illinois': 'eee'}\n",
    "df1 = pd.Series(dict1)\n",
    "df2 = pd.Series(dict2)\n",
    "pd.DataFrame({'numbers': df1, 'letters': df2})"
   ]
  },
  {
   "cell_type": "markdown",
   "metadata": {},
   "source": [
    "### Задача 5: Создать Index на основе списка \n",
    "\n",
    "list('abc')"
   ]
  },
  {
   "cell_type": "code",
   "execution_count": 6,
   "metadata": {},
   "outputs": [
    {
     "data": {
      "text/plain": [
       "Index(['a', 'b', 'c'], dtype='object')"
      ]
     },
     "execution_count": 6,
     "metadata": {},
     "output_type": "execute_result"
    }
   ],
   "source": [
    "pd.Index(list(\"abc\"))"
   ]
  },
  {
   "cell_type": "markdown",
   "metadata": {},
   "source": [
    "### Задача 6: Создать Pandas Dataframe из 2D-списка.\n",
    "\n",
    "lst = [['Сейчас', 25], ['я', 30], \n",
    "       \n",
    "    ['изучаю', 26], ['Pandas', 22]] "
   ]
  },
  {
   "cell_type": "code",
   "execution_count": 7,
   "metadata": {},
   "outputs": [
    {
     "data": {
      "text/html": [
       "<div>\n",
       "<style scoped>\n",
       "    .dataframe tbody tr th:only-of-type {\n",
       "        vertical-align: middle;\n",
       "    }\n",
       "\n",
       "    .dataframe tbody tr th {\n",
       "        vertical-align: top;\n",
       "    }\n",
       "\n",
       "    .dataframe thead th {\n",
       "        text-align: right;\n",
       "    }\n",
       "</style>\n",
       "<table border=\"1\" class=\"dataframe\">\n",
       "  <thead>\n",
       "    <tr style=\"text-align: right;\">\n",
       "      <th></th>\n",
       "      <th>0</th>\n",
       "      <th>1</th>\n",
       "    </tr>\n",
       "  </thead>\n",
       "  <tbody>\n",
       "    <tr>\n",
       "      <th>0</th>\n",
       "      <td>Сейчас</td>\n",
       "      <td>25</td>\n",
       "    </tr>\n",
       "    <tr>\n",
       "      <th>1</th>\n",
       "      <td>я</td>\n",
       "      <td>30</td>\n",
       "    </tr>\n",
       "    <tr>\n",
       "      <th>2</th>\n",
       "      <td>изучаю</td>\n",
       "      <td>26</td>\n",
       "    </tr>\n",
       "    <tr>\n",
       "      <th>3</th>\n",
       "      <td>Pandas</td>\n",
       "      <td>22</td>\n",
       "    </tr>\n",
       "  </tbody>\n",
       "</table>\n",
       "</div>"
      ],
      "text/plain": [
       "        0   1\n",
       "0  Сейчас  25\n",
       "1       я  30\n",
       "2  изучаю  26\n",
       "3  Pandas  22"
      ]
     },
     "execution_count": 7,
     "metadata": {},
     "output_type": "execute_result"
    }
   ],
   "source": [
    "lst = [['Сейчас', 25], ['я', 30],\n",
    "       ['изучаю', 26], ['Pandas', 22]] \n",
    "pd.DataFrame(lst)"
   ]
  },
  {
   "cell_type": "markdown",
   "metadata": {},
   "source": [
    "# 2 lesson\n",
    "\n",
    "# Lesson topic: Индексация и выборка данных"
   ]
  },
  {
   "cell_type": "markdown",
   "metadata": {},
   "source": [
    "### Домашнее задание"
   ]
  },
  {
   "cell_type": "markdown",
   "metadata": {},
   "source": [
    "### Задача 1: Дана Series. Выбрать из нее определённое значение, используя метод .loc() и метод iloc.()\n",
    "\n",
    "x = pd.Series([10, 20, 30, 40, 50], index =['a', 'b', 'c', 'd', 'e']) \n",
    "\n",
    "Выберите из Series значение 30, используя метод .loc() и метод iloc.()"
   ]
  },
  {
   "cell_type": "code",
   "execution_count": 8,
   "metadata": {},
   "outputs": [
    {
     "data": {
      "text/plain": [
       "np.int64(30)"
      ]
     },
     "execution_count": 8,
     "metadata": {},
     "output_type": "execute_result"
    }
   ],
   "source": [
    "x = pd.Series([10, 20, 30, 40, 50], index =['a', 'b', 'c', 'd', 'e'])\n",
    "x.loc[\"c\"]\n",
    "x.iloc[2]"
   ]
  },
  {
   "cell_type": "markdown",
   "metadata": {},
   "source": [
    "### Задача 2: Дан DataFrame. \n",
    "\n",
    "### Выбрать из него вторую и третью строки, используя метод .loc() и/или метод iloc.()\n",
    "\n",
    "### Выбрать из него второй столбец, используя метод .loc() и/или метод iloc.()\n",
    "\n",
    "### Выбрать из него значение 'bbb', используя метод .loc() и/или метод iloc.()\n",
    "\n",
    "data = pd.DataFrame({'area': [1,2,3,4,5], 'pop': ['aaa', 'bbb', 'ccc', 'ddd', 'eee']})"
   ]
  },
  {
   "cell_type": "code",
   "execution_count": 9,
   "metadata": {},
   "outputs": [
    {
     "data": {
      "text/html": [
       "<div>\n",
       "<style scoped>\n",
       "    .dataframe tbody tr th:only-of-type {\n",
       "        vertical-align: middle;\n",
       "    }\n",
       "\n",
       "    .dataframe tbody tr th {\n",
       "        vertical-align: top;\n",
       "    }\n",
       "\n",
       "    .dataframe thead th {\n",
       "        text-align: right;\n",
       "    }\n",
       "</style>\n",
       "<table border=\"1\" class=\"dataframe\">\n",
       "  <thead>\n",
       "    <tr style=\"text-align: right;\">\n",
       "      <th></th>\n",
       "      <th>area</th>\n",
       "      <th>pop</th>\n",
       "    </tr>\n",
       "  </thead>\n",
       "  <tbody>\n",
       "    <tr>\n",
       "      <th>1</th>\n",
       "      <td>2</td>\n",
       "      <td>bbb</td>\n",
       "    </tr>\n",
       "    <tr>\n",
       "      <th>2</th>\n",
       "      <td>3</td>\n",
       "      <td>ccc</td>\n",
       "    </tr>\n",
       "  </tbody>\n",
       "</table>\n",
       "</div>"
      ],
      "text/plain": [
       "   area  pop\n",
       "1     2  bbb\n",
       "2     3  ccc"
      ]
     },
     "execution_count": 9,
     "metadata": {},
     "output_type": "execute_result"
    }
   ],
   "source": [
    "data = pd.DataFrame({'area': [1,2,3,4,5], 'pop': ['aaa', 'bbb', 'ccc', 'ddd', 'eee']})\n",
    "data.loc[1:2]\n",
    "data.iloc[1:3]"
   ]
  },
  {
   "cell_type": "code",
   "execution_count": 10,
   "metadata": {},
   "outputs": [
    {
     "data": {
      "text/plain": [
       "0    aaa\n",
       "1    bbb\n",
       "2    ccc\n",
       "3    ddd\n",
       "4    eee\n",
       "Name: pop, dtype: object"
      ]
     },
     "execution_count": 10,
     "metadata": {},
     "output_type": "execute_result"
    }
   ],
   "source": [
    "data.loc[:, \"pop\"]\n",
    "data.iloc[:, 1]"
   ]
  },
  {
   "cell_type": "code",
   "execution_count": 11,
   "metadata": {},
   "outputs": [
    {
     "data": {
      "text/plain": [
       "'bbb'"
      ]
     },
     "execution_count": 11,
     "metadata": {},
     "output_type": "execute_result"
    }
   ],
   "source": [
    "data.loc[1, \"pop\"]\n",
    "data.iloc[1, 1]"
   ]
  },
  {
   "cell_type": "markdown",
   "metadata": {},
   "source": [
    "### Задача 3: Транспонируйте DataFrame\n",
    "\n",
    "data = pd.DataFrame({'column_1': [35,21,39,54,59], 'column_2': [3000, [1,2,3], 'Hello', True, 47.39]})"
   ]
  },
  {
   "cell_type": "code",
   "execution_count": 12,
   "metadata": {},
   "outputs": [
    {
     "data": {
      "text/html": [
       "<div>\n",
       "<style scoped>\n",
       "    .dataframe tbody tr th:only-of-type {\n",
       "        vertical-align: middle;\n",
       "    }\n",
       "\n",
       "    .dataframe tbody tr th {\n",
       "        vertical-align: top;\n",
       "    }\n",
       "\n",
       "    .dataframe thead th {\n",
       "        text-align: right;\n",
       "    }\n",
       "</style>\n",
       "<table border=\"1\" class=\"dataframe\">\n",
       "  <thead>\n",
       "    <tr style=\"text-align: right;\">\n",
       "      <th></th>\n",
       "      <th>column_2</th>\n",
       "      <th>column_1</th>\n",
       "    </tr>\n",
       "  </thead>\n",
       "  <tbody>\n",
       "    <tr>\n",
       "      <th>4</th>\n",
       "      <td>47.39</td>\n",
       "      <td>59</td>\n",
       "    </tr>\n",
       "    <tr>\n",
       "      <th>3</th>\n",
       "      <td>True</td>\n",
       "      <td>54</td>\n",
       "    </tr>\n",
       "    <tr>\n",
       "      <th>2</th>\n",
       "      <td>Hello</td>\n",
       "      <td>39</td>\n",
       "    </tr>\n",
       "    <tr>\n",
       "      <th>1</th>\n",
       "      <td>[1, 2, 3]</td>\n",
       "      <td>21</td>\n",
       "    </tr>\n",
       "    <tr>\n",
       "      <th>0</th>\n",
       "      <td>3000</td>\n",
       "      <td>35</td>\n",
       "    </tr>\n",
       "  </tbody>\n",
       "</table>\n",
       "</div>"
      ],
      "text/plain": [
       "    column_2  column_1\n",
       "4      47.39        59\n",
       "3       True        54\n",
       "2      Hello        39\n",
       "1  [1, 2, 3]        21\n",
       "0       3000        35"
      ]
     },
     "execution_count": 12,
     "metadata": {},
     "output_type": "execute_result"
    }
   ],
   "source": [
    "data = pd.DataFrame({'column_1': [35,21,39,54,59], 'column_2': [3000, [1,2,3], 'Hello', True, 47.39]})\n",
    "data.iloc[::-1, ::-1]"
   ]
  },
  {
   "cell_type": "markdown",
   "metadata": {},
   "source": [
    "# 3 lesson\n",
    "\n",
    "# Lesson topic: Операции над данными в библиотеке Pandas"
   ]
  },
  {
   "cell_type": "markdown",
   "metadata": {},
   "source": [
    "### Домашнее задание"
   ]
  },
  {
   "cell_type": "markdown",
   "metadata": {},
   "source": [
    "### Задача 1: Заданы два DataFrame. Выполните сложение этих 2-х DataFrame\n",
    "\n",
    "\n",
    "##### «Seed» используется для инициализации внутреннего генератора псевдослучайных чисел. \n",
    "##### А предоставление фиксированного seed гарантирует, что одна и та же серия вызовов методов 'RandomState' \n",
    "#####  всегда будет давать одни и те же результаты, что может быть полезно при тестировании.\n",
    "rng = np.random.RandomState(42)\n",
    "\n",
    "ABC = pd.DataFrame(rng.randint(0, 10, (3, 3)), \n",
    "                 columns=list('ABC'))\n",
    "\n",
    "df = pd.DataFrame(rng.randint(0, 20, (4, 4)), columns=['A', 'B', 'C', 'D'])"
   ]
  },
  {
   "cell_type": "code",
   "execution_count": 13,
   "metadata": {},
   "outputs": [
    {
     "data": {
      "text/html": [
       "<div>\n",
       "<style scoped>\n",
       "    .dataframe tbody tr th:only-of-type {\n",
       "        vertical-align: middle;\n",
       "    }\n",
       "\n",
       "    .dataframe tbody tr th {\n",
       "        vertical-align: top;\n",
       "    }\n",
       "\n",
       "    .dataframe thead th {\n",
       "        text-align: right;\n",
       "    }\n",
       "</style>\n",
       "<table border=\"1\" class=\"dataframe\">\n",
       "  <thead>\n",
       "    <tr style=\"text-align: right;\">\n",
       "      <th></th>\n",
       "      <th>A</th>\n",
       "      <th>B</th>\n",
       "      <th>C</th>\n",
       "      <th>D</th>\n",
       "    </tr>\n",
       "  </thead>\n",
       "  <tbody>\n",
       "    <tr>\n",
       "      <th>0</th>\n",
       "      <td>9.0</td>\n",
       "      <td>10.0</td>\n",
       "      <td>9.0</td>\n",
       "      <td>NaN</td>\n",
       "    </tr>\n",
       "    <tr>\n",
       "      <th>1</th>\n",
       "      <td>15.0</td>\n",
       "      <td>11.0</td>\n",
       "      <td>10.0</td>\n",
       "      <td>NaN</td>\n",
       "    </tr>\n",
       "    <tr>\n",
       "      <th>2</th>\n",
       "      <td>13.0</td>\n",
       "      <td>17.0</td>\n",
       "      <td>23.0</td>\n",
       "      <td>NaN</td>\n",
       "    </tr>\n",
       "    <tr>\n",
       "      <th>3</th>\n",
       "      <td>NaN</td>\n",
       "      <td>NaN</td>\n",
       "      <td>NaN</td>\n",
       "      <td>NaN</td>\n",
       "    </tr>\n",
       "  </tbody>\n",
       "</table>\n",
       "</div>"
      ],
      "text/plain": [
       "      A     B     C   D\n",
       "0   9.0  10.0   9.0 NaN\n",
       "1  15.0  11.0  10.0 NaN\n",
       "2  13.0  17.0  23.0 NaN\n",
       "3   NaN   NaN   NaN NaN"
      ]
     },
     "execution_count": 13,
     "metadata": {},
     "output_type": "execute_result"
    }
   ],
   "source": [
    "rng = np.random.RandomState(42)\n",
    "ABC = pd.DataFrame(rng.randint(0, 10, (3, 3)), columns=list('ABC'))\n",
    "df = pd.DataFrame(rng.randint(0, 20, (4, 4)), columns=['A', 'B', 'C', 'D'])\n",
    "ABC + df"
   ]
  },
  {
   "cell_type": "markdown",
   "metadata": {},
   "source": [
    "### Задача 2: Дан DataFrame df. Получите df[2]. \n",
    "\n",
    "### Найдите разность df - df.loc[2], выполнив эту операцию по строкам, указав ключевое слово axis \n",
    "\n",
    "rng = np.random.RandomState(42)\n",
    "\n",
    "df = pd.DataFrame(rng.randint(0, 20, (4, 4)), columns=['A', 'B', 'C', 'D'])"
   ]
  },
  {
   "cell_type": "code",
   "execution_count": 14,
   "metadata": {},
   "outputs": [
    {
     "data": {
      "text/html": [
       "<div>\n",
       "<style scoped>\n",
       "    .dataframe tbody tr th:only-of-type {\n",
       "        vertical-align: middle;\n",
       "    }\n",
       "\n",
       "    .dataframe tbody tr th {\n",
       "        vertical-align: top;\n",
       "    }\n",
       "\n",
       "    .dataframe thead th {\n",
       "        text-align: right;\n",
       "    }\n",
       "</style>\n",
       "<table border=\"1\" class=\"dataframe\">\n",
       "  <thead>\n",
       "    <tr style=\"text-align: right;\">\n",
       "      <th></th>\n",
       "      <th>A</th>\n",
       "      <th>B</th>\n",
       "      <th>C</th>\n",
       "      <th>D</th>\n",
       "    </tr>\n",
       "  </thead>\n",
       "  <tbody>\n",
       "    <tr>\n",
       "      <th>0</th>\n",
       "      <td>-4</td>\n",
       "      <td>16</td>\n",
       "      <td>7</td>\n",
       "      <td>8</td>\n",
       "    </tr>\n",
       "    <tr>\n",
       "      <th>1</th>\n",
       "      <td>-3</td>\n",
       "      <td>3</td>\n",
       "      <td>11</td>\n",
       "      <td>8</td>\n",
       "    </tr>\n",
       "    <tr>\n",
       "      <th>2</th>\n",
       "      <td>0</td>\n",
       "      <td>0</td>\n",
       "      <td>0</td>\n",
       "      <td>0</td>\n",
       "    </tr>\n",
       "    <tr>\n",
       "      <th>3</th>\n",
       "      <td>-9</td>\n",
       "      <td>8</td>\n",
       "      <td>-2</td>\n",
       "      <td>-1</td>\n",
       "    </tr>\n",
       "  </tbody>\n",
       "</table>\n",
       "</div>"
      ],
      "text/plain": [
       "   A   B   C  D\n",
       "0 -4  16   7  8\n",
       "1 -3   3  11  8\n",
       "2  0   0   0  0\n",
       "3 -9   8  -2 -1"
      ]
     },
     "execution_count": 14,
     "metadata": {},
     "output_type": "execute_result"
    }
   ],
   "source": [
    "rng = np.random.RandomState(42)\n",
    "df = pd.DataFrame(rng.randint(0, 20, (4, 4)), columns=['A', 'B', 'C', 'D'])\n",
    "df.subtract(df.loc[2], axis=1)"
   ]
  },
  {
   "cell_type": "markdown",
   "metadata": {},
   "source": [
    "### Задача 3: Дан DataFrame df. Получите df[C]. \n",
    "\n",
    "### Найдите сумму df + df[C], выполнив эту операцию по столбцам, указав ключевое слово axis \n",
    "##### «Seed» используется для инициализации внутреннего генератора псевдослучайных чисел. \n",
    "##### А предоставление фиксированного seed гарантирует, что одна и та же серия вызовов методов 'RandomState' \n",
    "#####  всегда будет давать одни и те же результаты, что может быть полезно при тестировании.\n",
    "rng = np.random.RandomState(42)\n",
    "\n",
    "df = pd.DataFrame(rng.randint(0, 20, (4, 4)), columns=['A', 'B', 'C', 'D'])"
   ]
  },
  {
   "cell_type": "code",
   "execution_count": 15,
   "metadata": {},
   "outputs": [
    {
     "data": {
      "text/html": [
       "<div>\n",
       "<style scoped>\n",
       "    .dataframe tbody tr th:only-of-type {\n",
       "        vertical-align: middle;\n",
       "    }\n",
       "\n",
       "    .dataframe tbody tr th {\n",
       "        vertical-align: top;\n",
       "    }\n",
       "\n",
       "    .dataframe thead th {\n",
       "        text-align: right;\n",
       "    }\n",
       "</style>\n",
       "<table border=\"1\" class=\"dataframe\">\n",
       "  <thead>\n",
       "    <tr style=\"text-align: right;\">\n",
       "      <th></th>\n",
       "      <th>A</th>\n",
       "      <th>B</th>\n",
       "      <th>C</th>\n",
       "      <th>D</th>\n",
       "    </tr>\n",
       "  </thead>\n",
       "  <tbody>\n",
       "    <tr>\n",
       "      <th>0</th>\n",
       "      <td>-8</td>\n",
       "      <td>5</td>\n",
       "      <td>0</td>\n",
       "      <td>-4</td>\n",
       "    </tr>\n",
       "    <tr>\n",
       "      <th>1</th>\n",
       "      <td>-11</td>\n",
       "      <td>-12</td>\n",
       "      <td>0</td>\n",
       "      <td>-8</td>\n",
       "    </tr>\n",
       "    <tr>\n",
       "      <th>2</th>\n",
       "      <td>3</td>\n",
       "      <td>-4</td>\n",
       "      <td>0</td>\n",
       "      <td>-5</td>\n",
       "    </tr>\n",
       "    <tr>\n",
       "      <th>3</th>\n",
       "      <td>-4</td>\n",
       "      <td>6</td>\n",
       "      <td>0</td>\n",
       "      <td>-4</td>\n",
       "    </tr>\n",
       "  </tbody>\n",
       "</table>\n",
       "</div>"
      ],
      "text/plain": [
       "    A   B  C  D\n",
       "0  -8   5  0 -4\n",
       "1 -11 -12  0 -8\n",
       "2   3  -4  0 -5\n",
       "3  -4   6  0 -4"
      ]
     },
     "execution_count": 15,
     "metadata": {},
     "output_type": "execute_result"
    }
   ],
   "source": [
    "rng = np.random.RandomState(42)\n",
    "df = pd.DataFrame(rng.randint(0, 20, (4, 4)), columns=['A', 'B', 'C', 'D'])\n",
    "df.subtract(df[\"C\"], axis=0)"
   ]
  },
  {
   "cell_type": "markdown",
   "metadata": {},
   "source": [
    "# 4 lesson\n",
    "\n",
    "# Lesson topic: Обработка отсутствующих данных"
   ]
  },
  {
   "cell_type": "markdown",
   "metadata": {},
   "source": [
    "### Домашнее задание"
   ]
  },
  {
   "cell_type": "markdown",
   "metadata": {},
   "source": [
    "### Задача 1: Создайте DataFrame из 2-х Series. Выявите пустые значения в этом DataFrame, используя методы:\n",
    "\n",
    "### df.isnull()\n",
    "\n",
    "### df.notnull()\n",
    "\n",
    "### df[df.notnull()]\n",
    "\n",
    "data_a = pd.Series({'AAA': None, \n",
    "                  \n",
    "                  'FFF': 111,\n",
    "                  \n",
    "                  'NNN': 222}, \n",
    "                 \n",
    "                  name='DATA_A')\n",
    "\n",
    "data_b = pd.Series({'AAA': 333, \n",
    "                    \n",
    "                    'FFF': np.nan,\n",
    "                    \n",
    "                    'NNN': 777}, \n",
    "                    \n",
    "                    name='population')"
   ]
  },
  {
   "cell_type": "code",
   "execution_count": 16,
   "metadata": {},
   "outputs": [
    {
     "data": {
      "text/html": [
       "<div>\n",
       "<style scoped>\n",
       "    .dataframe tbody tr th:only-of-type {\n",
       "        vertical-align: middle;\n",
       "    }\n",
       "\n",
       "    .dataframe tbody tr th {\n",
       "        vertical-align: top;\n",
       "    }\n",
       "\n",
       "    .dataframe thead th {\n",
       "        text-align: right;\n",
       "    }\n",
       "</style>\n",
       "<table border=\"1\" class=\"dataframe\">\n",
       "  <thead>\n",
       "    <tr style=\"text-align: right;\">\n",
       "      <th></th>\n",
       "      <th>DATA_A</th>\n",
       "      <th>population</th>\n",
       "    </tr>\n",
       "  </thead>\n",
       "  <tbody>\n",
       "    <tr>\n",
       "      <th>AAA</th>\n",
       "      <td>NaN</td>\n",
       "      <td>333.0</td>\n",
       "    </tr>\n",
       "    <tr>\n",
       "      <th>FFF</th>\n",
       "      <td>111.0</td>\n",
       "      <td>NaN</td>\n",
       "    </tr>\n",
       "    <tr>\n",
       "      <th>NNN</th>\n",
       "      <td>222.0</td>\n",
       "      <td>777.0</td>\n",
       "    </tr>\n",
       "  </tbody>\n",
       "</table>\n",
       "</div>"
      ],
      "text/plain": [
       "     DATA_A  population\n",
       "AAA     NaN       333.0\n",
       "FFF   111.0         NaN\n",
       "NNN   222.0       777.0"
      ]
     },
     "execution_count": 16,
     "metadata": {},
     "output_type": "execute_result"
    }
   ],
   "source": [
    "data_a = pd.Series({'AAA': None,\n",
    "                    'FFF': 111,\n",
    "                    'NNN': 222}, \n",
    "                   name='DATA_A')\n",
    "data_b = pd.Series({'AAA': 333,\n",
    "                    'FFF': np.nan,\n",
    "                    'NNN': 777}, \n",
    "                   name='population')\n",
    "df = pd.DataFrame({data_a.name: data_a, data_b.name: data_b})\n",
    "df.isnull()\n",
    "df.notnull()\n",
    "df[df.notnull()]"
   ]
  },
  {
   "cell_type": "markdown",
   "metadata": {},
   "source": [
    "### Задача 2: Создайте DataFrame из 2-х Series. Удалите строки (столбцы) в этом DataFrame, используя методы:\n",
    "\n",
    "### df.dropna()\n",
    "\n",
    "data_a = pd.Series({'AAA': None, \n",
    "                  \n",
    "                  'FFF': 111,\n",
    "                  \n",
    "                  'NNN': 222}, \n",
    "                   \n",
    "                   name='DATA_A')\n",
    "\n",
    "data_b = pd.Series({'AAA': 333, \n",
    "                    \n",
    "                    'FFF': np.nan,\n",
    "                        \n",
    "                    'NNN': 777}, \n",
    "                    \n",
    "                    name='DATA_B')"
   ]
  },
  {
   "cell_type": "code",
   "execution_count": 17,
   "metadata": {},
   "outputs": [
    {
     "data": {
      "text/html": [
       "<div>\n",
       "<style scoped>\n",
       "    .dataframe tbody tr th:only-of-type {\n",
       "        vertical-align: middle;\n",
       "    }\n",
       "\n",
       "    .dataframe tbody tr th {\n",
       "        vertical-align: top;\n",
       "    }\n",
       "\n",
       "    .dataframe thead th {\n",
       "        text-align: right;\n",
       "    }\n",
       "</style>\n",
       "<table border=\"1\" class=\"dataframe\">\n",
       "  <thead>\n",
       "    <tr style=\"text-align: right;\">\n",
       "      <th></th>\n",
       "      <th>DATA_A</th>\n",
       "      <th>DATA_B</th>\n",
       "    </tr>\n",
       "  </thead>\n",
       "  <tbody>\n",
       "    <tr>\n",
       "      <th>NNN</th>\n",
       "      <td>222.0</td>\n",
       "      <td>777.0</td>\n",
       "    </tr>\n",
       "  </tbody>\n",
       "</table>\n",
       "</div>"
      ],
      "text/plain": [
       "     DATA_A  DATA_B\n",
       "NNN   222.0   777.0"
      ]
     },
     "execution_count": 17,
     "metadata": {},
     "output_type": "execute_result"
    }
   ],
   "source": [
    "data_a = pd.Series({'AAA': None,\n",
    "                    'FFF': 111,\n",
    "                    'NNN': 222}, \n",
    "                   name='DATA_A')\n",
    "data_b = pd.Series({'AAA': 333,\n",
    "                    'FFF': np.nan,\n",
    "                    'NNN': 777}, \n",
    "                   name='DATA_B')\n",
    "df = pd.DataFrame({data_a.name: data_a, data_b.name: data_b})\n",
    "df.dropna(axis=0)"
   ]
  },
  {
   "cell_type": "code",
   "execution_count": 18,
   "metadata": {},
   "outputs": [
    {
     "data": {
      "text/html": [
       "<div>\n",
       "<style scoped>\n",
       "    .dataframe tbody tr th:only-of-type {\n",
       "        vertical-align: middle;\n",
       "    }\n",
       "\n",
       "    .dataframe tbody tr th {\n",
       "        vertical-align: top;\n",
       "    }\n",
       "\n",
       "    .dataframe thead th {\n",
       "        text-align: right;\n",
       "    }\n",
       "</style>\n",
       "<table border=\"1\" class=\"dataframe\">\n",
       "  <thead>\n",
       "    <tr style=\"text-align: right;\">\n",
       "      <th></th>\n",
       "    </tr>\n",
       "  </thead>\n",
       "  <tbody>\n",
       "    <tr>\n",
       "      <th>AAA</th>\n",
       "    </tr>\n",
       "    <tr>\n",
       "      <th>FFF</th>\n",
       "    </tr>\n",
       "    <tr>\n",
       "      <th>NNN</th>\n",
       "    </tr>\n",
       "  </tbody>\n",
       "</table>\n",
       "</div>"
      ],
      "text/plain": [
       "Empty DataFrame\n",
       "Columns: []\n",
       "Index: [AAA, FFF, NNN]"
      ]
     },
     "execution_count": 18,
     "metadata": {},
     "output_type": "execute_result"
    }
   ],
   "source": [
    "df.dropna(axis=1)"
   ]
  },
  {
   "cell_type": "markdown",
   "metadata": {},
   "source": [
    "### Задача 3: Создайте DataFrame из 2-х Series. Заполните пропуски в этом DataFrame средним значением в столбце (строке), используя метод:\n",
    "\n",
    "### df.fillna()\n",
    "\n",
    "data_a = pd.Series({'AAA': 1, \n",
    "                  \n",
    "                  'FFF': None,\n",
    "                  \n",
    "                  'NNN': 3}, \n",
    "                   \n",
    "                   name='DATA_A')\n",
    "\n",
    "data_b = pd.Series({'AAA': 4, \n",
    "                    \n",
    "                    'FFF': 5,\n",
    "                        \n",
    "                    'NNN': np.nan}, \n",
    "                    \n",
    "                    name='DATA_B')"
   ]
  },
  {
   "cell_type": "code",
   "execution_count": 19,
   "metadata": {},
   "outputs": [
    {
     "data": {
      "text/html": [
       "<div>\n",
       "<style scoped>\n",
       "    .dataframe tbody tr th:only-of-type {\n",
       "        vertical-align: middle;\n",
       "    }\n",
       "\n",
       "    .dataframe tbody tr th {\n",
       "        vertical-align: top;\n",
       "    }\n",
       "\n",
       "    .dataframe thead th {\n",
       "        text-align: right;\n",
       "    }\n",
       "</style>\n",
       "<table border=\"1\" class=\"dataframe\">\n",
       "  <thead>\n",
       "    <tr style=\"text-align: right;\">\n",
       "      <th></th>\n",
       "      <th>DATA_A</th>\n",
       "      <th>DATA_B</th>\n",
       "    </tr>\n",
       "  </thead>\n",
       "  <tbody>\n",
       "    <tr>\n",
       "      <th>AAA</th>\n",
       "      <td>1.0</td>\n",
       "      <td>4.0</td>\n",
       "    </tr>\n",
       "    <tr>\n",
       "      <th>FFF</th>\n",
       "      <td>2.0</td>\n",
       "      <td>5.0</td>\n",
       "    </tr>\n",
       "    <tr>\n",
       "      <th>NNN</th>\n",
       "      <td>3.0</td>\n",
       "      <td>4.5</td>\n",
       "    </tr>\n",
       "  </tbody>\n",
       "</table>\n",
       "</div>"
      ],
      "text/plain": [
       "     DATA_A  DATA_B\n",
       "AAA     1.0     4.0\n",
       "FFF     2.0     5.0\n",
       "NNN     3.0     4.5"
      ]
     },
     "execution_count": 19,
     "metadata": {},
     "output_type": "execute_result"
    }
   ],
   "source": [
    "data_a = pd.Series({'AAA': 1,\n",
    "                    'FFF': None,\n",
    "                    'NNN': 3}, \n",
    "                   name='DATA_A')\n",
    "data_b = pd.Series({'AAA': 4,\n",
    "                    'FFF': 5,\n",
    "                    'NNN': np.nan}, \n",
    "                   name='DATA_B')\n",
    "df = pd.DataFrame({data_a.name: data_a, data_b.name: data_b})\n",
    "df.fillna(df.mean(axis=0))"
   ]
  },
  {
   "cell_type": "code",
   "execution_count": 20,
   "metadata": {},
   "outputs": [
    {
     "data": {
      "text/html": [
       "<div>\n",
       "<style scoped>\n",
       "    .dataframe tbody tr th:only-of-type {\n",
       "        vertical-align: middle;\n",
       "    }\n",
       "\n",
       "    .dataframe tbody tr th {\n",
       "        vertical-align: top;\n",
       "    }\n",
       "\n",
       "    .dataframe thead th {\n",
       "        text-align: right;\n",
       "    }\n",
       "</style>\n",
       "<table border=\"1\" class=\"dataframe\">\n",
       "  <thead>\n",
       "    <tr style=\"text-align: right;\">\n",
       "      <th></th>\n",
       "      <th>DATA_A</th>\n",
       "      <th>DATA_B</th>\n",
       "    </tr>\n",
       "  </thead>\n",
       "  <tbody>\n",
       "    <tr>\n",
       "      <th>AAA</th>\n",
       "      <td>1.0</td>\n",
       "      <td>4.0</td>\n",
       "    </tr>\n",
       "    <tr>\n",
       "      <th>FFF</th>\n",
       "      <td>NaN</td>\n",
       "      <td>5.0</td>\n",
       "    </tr>\n",
       "    <tr>\n",
       "      <th>NNN</th>\n",
       "      <td>3.0</td>\n",
       "      <td>NaN</td>\n",
       "    </tr>\n",
       "  </tbody>\n",
       "</table>\n",
       "</div>"
      ],
      "text/plain": [
       "     DATA_A  DATA_B\n",
       "AAA     1.0     4.0\n",
       "FFF     NaN     5.0\n",
       "NNN     3.0     NaN"
      ]
     },
     "execution_count": 20,
     "metadata": {},
     "output_type": "execute_result"
    }
   ],
   "source": [
    "df.fillna(df.mean(axis=1))"
   ]
  },
  {
   "cell_type": "markdown",
   "metadata": {},
   "source": [
    "# 5 lesson\n",
    "\n",
    "# Lesson topic: Иерархическая индексация"
   ]
  },
  {
   "cell_type": "markdown",
   "metadata": {},
   "source": [
    "### Домашнее задание"
   ]
  },
  {
   "cell_type": "markdown",
   "metadata": {},
   "source": [
    "### Задача 1: Cформируйте объект MultiIndex из простого списка массивов, задающих значения индекса в каждом из уровней:\n",
    "\n",
    "[['SPb', 'SPb', 'SPb', 'Moscow', 'Moscow', 'Moscow'], [10, 20, 30, 10, 20, 30]]"
   ]
  },
  {
   "cell_type": "code",
   "execution_count": 21,
   "metadata": {},
   "outputs": [
    {
     "data": {
      "text/plain": [
       "MultiIndex([(   'SPb', 10),\n",
       "            (   'SPb', 20),\n",
       "            (   'SPb', 30),\n",
       "            ('Moscow', 10),\n",
       "            ('Moscow', 20),\n",
       "            ('Moscow', 30)],\n",
       "           )"
      ]
     },
     "execution_count": 21,
     "metadata": {},
     "output_type": "execute_result"
    }
   ],
   "source": [
    " pd.MultiIndex.from_arrays([['SPb', 'SPb', 'SPb', 'Moscow', 'Moscow', 'Moscow'], [10, 20, 30, 10, 20, 30]])"
   ]
  },
  {
   "cell_type": "markdown",
   "metadata": {},
   "source": [
    "### Задача 2: Cформируйте объект MultiIndex из списка кортежей:\n",
    "\n",
    "[('SPb', 10), ('SPb', 20), ('Moscow', 10), ('Moscow', 20), ('Kazan', 10), ('Kazan', 20)]"
   ]
  },
  {
   "cell_type": "code",
   "execution_count": 22,
   "metadata": {},
   "outputs": [
    {
     "data": {
      "text/plain": [
       "MultiIndex([(   'SPb', 10),\n",
       "            (   'SPb', 20),\n",
       "            ('Moscow', 10),\n",
       "            ('Moscow', 20),\n",
       "            ( 'Kazan', 10),\n",
       "            ( 'Kazan', 20)],\n",
       "           )"
      ]
     },
     "execution_count": 22,
     "metadata": {},
     "output_type": "execute_result"
    }
   ],
   "source": [
    " pd.MultiIndex.from_tuples([('SPb', 10), ('SPb', 20), ('Moscow', 10), ('Moscow', 20), ('Kazan', 10), ('Kazan', 20)])"
   ]
  },
  {
   "cell_type": "markdown",
   "metadata": {},
   "source": [
    "### Задача 3: Cформируйте объект MultiIndex из декартова произведения обычных индексов:\n",
    "\n",
    "[['SPb', 'Moscow', 'Kazan'], [1000, 2000, 3000]]"
   ]
  },
  {
   "cell_type": "code",
   "execution_count": 23,
   "metadata": {},
   "outputs": [
    {
     "data": {
      "text/plain": [
       "MultiIndex([(   'SPb', 1000),\n",
       "            (   'SPb', 2000),\n",
       "            (   'SPb', 3000),\n",
       "            ('Moscow', 1000),\n",
       "            ('Moscow', 2000),\n",
       "            ('Moscow', 3000),\n",
       "            ( 'Kazan', 1000),\n",
       "            ( 'Kazan', 2000),\n",
       "            ( 'Kazan', 3000)],\n",
       "           )"
      ]
     },
     "execution_count": 23,
     "metadata": {},
     "output_type": "execute_result"
    }
   ],
   "source": [
    "pd.MultiIndex.from_product([['SPb', 'Moscow', 'Kazan'], [1000, 2000, 3000]])"
   ]
  },
  {
   "cell_type": "markdown",
   "metadata": {},
   "source": [
    "# 6 lesson\n",
    "\n",
    "# Lesson topic: Иерархическая индексация. Индексация и срезы по мультииндексу"
   ]
  },
  {
   "cell_type": "markdown",
   "metadata": {},
   "source": [
    "### Домашнее задание"
   ]
  },
  {
   "cell_type": "markdown",
   "metadata": {},
   "source": [
    "### Задача 1: Создайте Series под названием realization, используя index и sales:\n",
    "\n",
    "index = [('aaa', 1), \n",
    "         ('aaa', 2),\n",
    "         ('bbb', 1), \n",
    "         ('bbb', 2),\n",
    "         ('ccc', 1), \n",
    "         ('ccc', 2)]\n",
    "\n",
    "sales = [1000, 1500, 2000, 1200, 2100, 1700]\n",
    "\n",
    "### Сделайте выборку данных на основе булевой маски: realization > 1500"
   ]
  },
  {
   "cell_type": "code",
   "execution_count": 24,
   "metadata": {},
   "outputs": [
    {
     "data": {
      "text/plain": [
       "bbb  1    2000\n",
       "ccc  1    2100\n",
       "     2    1700\n",
       "dtype: int64"
      ]
     },
     "execution_count": 24,
     "metadata": {},
     "output_type": "execute_result"
    }
   ],
   "source": [
    "index = [('aaa', 1), ('aaa', 2), ('bbb', 1), ('bbb', 2), ('ccc', 1), ('ccc', 2)]\n",
    "sales = [1000, 1500, 2000, 1200, 2100, 1700]\n",
    "index = pd.MultiIndex.from_tuples(index)\n",
    "realization = pd.Series(sales, index=index)\n",
    "realization[realization > 1500]"
   ]
  },
  {
   "cell_type": "markdown",
   "metadata": {},
   "source": [
    "### Задача 2: Coздайте объект DataFrame c Мультииндексацией, используя index, columns и data:\n",
    "\n",
    "##### Иерархические индексы и столбцы\n",
    "index = pd.MultiIndex.from_product([['Store_1', 'Store_2'], ['1st quarter', '2st quarter']], \n",
    "                                   \n",
    "                                   names=['year', 'visit'])\n",
    "\n",
    "columns = pd.MultiIndex.from_product([['Mr. Smith', 'Mrs. Watson', 'Mr. Goodwin'], \n",
    "                                      \n",
    "                                    ['stocks', 'salesи']],\n",
    "names=['manager', 'type'])\n",
    "\n",
    "##### Создаем имитационные данные\n",
    "data = np.round(np.random.randn(4, 6), 1)"
   ]
  },
  {
   "cell_type": "code",
   "execution_count": 25,
   "metadata": {},
   "outputs": [
    {
     "data": {
      "text/html": [
       "<div>\n",
       "<style scoped>\n",
       "    .dataframe tbody tr th:only-of-type {\n",
       "        vertical-align: middle;\n",
       "    }\n",
       "\n",
       "    .dataframe tbody tr th {\n",
       "        vertical-align: top;\n",
       "    }\n",
       "\n",
       "    .dataframe thead tr th {\n",
       "        text-align: left;\n",
       "    }\n",
       "\n",
       "    .dataframe thead tr:last-of-type th {\n",
       "        text-align: right;\n",
       "    }\n",
       "</style>\n",
       "<table border=\"1\" class=\"dataframe\">\n",
       "  <thead>\n",
       "    <tr>\n",
       "      <th></th>\n",
       "      <th>manager</th>\n",
       "      <th colspan=\"2\" halign=\"left\">Mr. Smith</th>\n",
       "      <th colspan=\"2\" halign=\"left\">Mrs. Watson</th>\n",
       "      <th colspan=\"2\" halign=\"left\">Mr. Goodwin</th>\n",
       "    </tr>\n",
       "    <tr>\n",
       "      <th></th>\n",
       "      <th>type</th>\n",
       "      <th>stocks</th>\n",
       "      <th>sales</th>\n",
       "      <th>stocks</th>\n",
       "      <th>sales</th>\n",
       "      <th>stocks</th>\n",
       "      <th>sales</th>\n",
       "    </tr>\n",
       "    <tr>\n",
       "      <th>year</th>\n",
       "      <th>visit</th>\n",
       "      <th></th>\n",
       "      <th></th>\n",
       "      <th></th>\n",
       "      <th></th>\n",
       "      <th></th>\n",
       "      <th></th>\n",
       "    </tr>\n",
       "  </thead>\n",
       "  <tbody>\n",
       "    <tr>\n",
       "      <th rowspan=\"2\" valign=\"top\">Store_1</th>\n",
       "      <th>1st quarter</th>\n",
       "      <td>-1.4</td>\n",
       "      <td>-1.3</td>\n",
       "      <td>-0.2</td>\n",
       "      <td>-0.6</td>\n",
       "      <td>-1.2</td>\n",
       "      <td>-0.2</td>\n",
       "    </tr>\n",
       "    <tr>\n",
       "      <th>2st quarter</th>\n",
       "      <td>-0.0</td>\n",
       "      <td>0.4</td>\n",
       "      <td>-0.3</td>\n",
       "      <td>-0.7</td>\n",
       "      <td>-0.3</td>\n",
       "      <td>-0.5</td>\n",
       "    </tr>\n",
       "    <tr>\n",
       "      <th rowspan=\"2\" valign=\"top\">Store_2</th>\n",
       "      <th>1st quarter</th>\n",
       "      <td>0.2</td>\n",
       "      <td>0.0</td>\n",
       "      <td>-0.6</td>\n",
       "      <td>-0.3</td>\n",
       "      <td>0.8</td>\n",
       "      <td>-1.7</td>\n",
       "    </tr>\n",
       "    <tr>\n",
       "      <th>2st quarter</th>\n",
       "      <td>1.1</td>\n",
       "      <td>0.5</td>\n",
       "      <td>-0.3</td>\n",
       "      <td>-0.0</td>\n",
       "      <td>1.2</td>\n",
       "      <td>0.6</td>\n",
       "    </tr>\n",
       "  </tbody>\n",
       "</table>\n",
       "</div>"
      ],
      "text/plain": [
       "manager             Mr. Smith       Mrs. Watson       Mr. Goodwin      \n",
       "type                   stocks sales      stocks sales      stocks sales\n",
       "year    visit                                                          \n",
       "Store_1 1st quarter      -1.4  -1.3        -0.2  -0.6        -1.2  -0.2\n",
       "        2st quarter      -0.0   0.4        -0.3  -0.7        -0.3  -0.5\n",
       "Store_2 1st quarter       0.2   0.0        -0.6  -0.3         0.8  -1.7\n",
       "        2st quarter       1.1   0.5        -0.3  -0.0         1.2   0.6"
      ]
     },
     "execution_count": 25,
     "metadata": {},
     "output_type": "execute_result"
    }
   ],
   "source": [
    "index = pd.MultiIndex.from_product([['Store_1', 'Store_2'], ['1st quarter', '2st quarter']],\n",
    "                                   names=['year', 'visit'])\n",
    "columns = pd.MultiIndex.from_product([['Mr. Smith', 'Mrs. Watson', 'Mr. Goodwin'],\n",
    "                                      ['stocks', 'sales']],\n",
    "                                     names=['manager', 'type'])\n",
    "data = np.round(np.random.randn(4, 6), 1)\n",
    "\n",
    "df = pd.DataFrame(data, index=index, columns=columns)\n",
    "df"
   ]
  },
  {
   "cell_type": "markdown",
   "metadata": {},
   "source": [
    "### Задача 3: Создав DataFrame в Задаче 2, вычислите среднее значение по столбцам."
   ]
  },
  {
   "cell_type": "code",
   "execution_count": 26,
   "metadata": {},
   "outputs": [
    {
     "data": {
      "text/plain": [
       "year     visit      \n",
       "Store_1  1st quarter   -0.816667\n",
       "         2st quarter   -0.233333\n",
       "Store_2  1st quarter   -0.266667\n",
       "         2st quarter    0.516667\n",
       "dtype: float64"
      ]
     },
     "execution_count": 26,
     "metadata": {},
     "output_type": "execute_result"
    }
   ],
   "source": [
    "df.mean(axis=1)"
   ]
  },
  {
   "cell_type": "markdown",
   "metadata": {},
   "source": [
    "# 7 lesson\n",
    "\n",
    "# Lesson topic: Объединение наборов данных: конкатенация и добавление в конец"
   ]
  },
  {
   "cell_type": "markdown",
   "metadata": {},
   "source": [
    "### Домашнее задание"
   ]
  },
  {
   "cell_type": "markdown",
   "metadata": {},
   "source": [
    "### Задача 1: выполните конкатенацию 2-х Series:\n",
    "\n",
    "ser1 = pd.Series(['SPb', 'Mos', 'Kaz'], index=[1, 2, 3])\n",
    "\n",
    "ser2 = pd.Series(['Nov', 'Ekat', 'Vlad'], index=[4, 5, 6])"
   ]
  },
  {
   "cell_type": "code",
   "execution_count": 27,
   "metadata": {},
   "outputs": [
    {
     "data": {
      "text/plain": [
       "1     SPb\n",
       "2     Mos\n",
       "3     Kaz\n",
       "4     Nov\n",
       "5    Ekat\n",
       "6    Vlad\n",
       "dtype: object"
      ]
     },
     "execution_count": 27,
     "metadata": {},
     "output_type": "execute_result"
    }
   ],
   "source": [
    "ser1 = pd.Series(['SPb', 'Mos', 'Kaz'], index=[1, 2, 3])\n",
    "ser2 = pd.Series(['Nov', 'Ekat', 'Vlad'], index=[4, 5, 6])\n",
    "pd.concat([ser1, ser2])"
   ]
  },
  {
   "cell_type": "markdown",
   "metadata": {},
   "source": [
    "### Задача 2: выполните конкатенацию 2-х DataFrame по столбцам:\n",
    "\n",
    "list1, list2, list3 = [1, 2], [3, 4], [5, 6]\n",
    "\n",
    "df1 = pd.DataFrame({'A': list1, 'B': list2, 'C': list3})\n",
    "\n",
    "list4, list5, list6 = [10, 20], [30, 40], [50, 60]\n",
    "\n",
    "df2 = pd.DataFrame({'A': list1, 'B': list2, 'C': list3})"
   ]
  },
  {
   "cell_type": "code",
   "execution_count": 28,
   "metadata": {},
   "outputs": [
    {
     "data": {
      "text/html": [
       "<div>\n",
       "<style scoped>\n",
       "    .dataframe tbody tr th:only-of-type {\n",
       "        vertical-align: middle;\n",
       "    }\n",
       "\n",
       "    .dataframe tbody tr th {\n",
       "        vertical-align: top;\n",
       "    }\n",
       "\n",
       "    .dataframe thead th {\n",
       "        text-align: right;\n",
       "    }\n",
       "</style>\n",
       "<table border=\"1\" class=\"dataframe\">\n",
       "  <thead>\n",
       "    <tr style=\"text-align: right;\">\n",
       "      <th></th>\n",
       "      <th>A</th>\n",
       "      <th>B</th>\n",
       "      <th>C</th>\n",
       "      <th>A</th>\n",
       "      <th>B</th>\n",
       "      <th>C</th>\n",
       "    </tr>\n",
       "  </thead>\n",
       "  <tbody>\n",
       "    <tr>\n",
       "      <th>0</th>\n",
       "      <td>1</td>\n",
       "      <td>3</td>\n",
       "      <td>5</td>\n",
       "      <td>1</td>\n",
       "      <td>3</td>\n",
       "      <td>5</td>\n",
       "    </tr>\n",
       "    <tr>\n",
       "      <th>1</th>\n",
       "      <td>2</td>\n",
       "      <td>4</td>\n",
       "      <td>6</td>\n",
       "      <td>2</td>\n",
       "      <td>4</td>\n",
       "      <td>6</td>\n",
       "    </tr>\n",
       "  </tbody>\n",
       "</table>\n",
       "</div>"
      ],
      "text/plain": [
       "   A  B  C  A  B  C\n",
       "0  1  3  5  1  3  5\n",
       "1  2  4  6  2  4  6"
      ]
     },
     "execution_count": 28,
     "metadata": {},
     "output_type": "execute_result"
    }
   ],
   "source": [
    "list1, list2, list3 = [1, 2], [3, 4], [5, 6]\n",
    "df1 = pd.DataFrame({'A': list1, 'B': list2, 'C': list3})\n",
    "list4, list5, list6 = [10, 20], [30, 40], [50, 60]\n",
    "df2 = pd.DataFrame({'A': list1, 'B': list2, 'C': list3})\n",
    "\n",
    "pd.concat([df1, df2], axis=1)"
   ]
  },
  {
   "cell_type": "markdown",
   "metadata": {},
   "source": [
    "### Задача 3: выполните конкатенацию 2-х DataFrame по строкам с помощью опции join='inner':\n",
    "\n",
    "list1, list2, list3 = [1, 2], [3, 4], [5, 6]\n",
    "\n",
    "df1 = pd.DataFrame({'A': list1, 'B': list2, 'C': list3})\n",
    "\n",
    "list4, list5, list6 = [10, 20], [30, 40], [50, 60]\n",
    "\n",
    "df2 = pd.DataFrame({'B': list1, 'C': list2, 'D': list3})"
   ]
  },
  {
   "cell_type": "code",
   "execution_count": 29,
   "metadata": {},
   "outputs": [
    {
     "data": {
      "text/html": [
       "<div>\n",
       "<style scoped>\n",
       "    .dataframe tbody tr th:only-of-type {\n",
       "        vertical-align: middle;\n",
       "    }\n",
       "\n",
       "    .dataframe tbody tr th {\n",
       "        vertical-align: top;\n",
       "    }\n",
       "\n",
       "    .dataframe thead th {\n",
       "        text-align: right;\n",
       "    }\n",
       "</style>\n",
       "<table border=\"1\" class=\"dataframe\">\n",
       "  <thead>\n",
       "    <tr style=\"text-align: right;\">\n",
       "      <th></th>\n",
       "      <th>B</th>\n",
       "      <th>C</th>\n",
       "    </tr>\n",
       "  </thead>\n",
       "  <tbody>\n",
       "    <tr>\n",
       "      <th>0</th>\n",
       "      <td>3</td>\n",
       "      <td>5</td>\n",
       "    </tr>\n",
       "    <tr>\n",
       "      <th>1</th>\n",
       "      <td>4</td>\n",
       "      <td>6</td>\n",
       "    </tr>\n",
       "    <tr>\n",
       "      <th>0</th>\n",
       "      <td>1</td>\n",
       "      <td>3</td>\n",
       "    </tr>\n",
       "    <tr>\n",
       "      <th>1</th>\n",
       "      <td>2</td>\n",
       "      <td>4</td>\n",
       "    </tr>\n",
       "  </tbody>\n",
       "</table>\n",
       "</div>"
      ],
      "text/plain": [
       "   B  C\n",
       "0  3  5\n",
       "1  4  6\n",
       "0  1  3\n",
       "1  2  4"
      ]
     },
     "execution_count": 29,
     "metadata": {},
     "output_type": "execute_result"
    }
   ],
   "source": [
    "list1, list2, list3 = [1, 2], [3, 4], [5, 6]\n",
    "df1 = pd.DataFrame({'A': list1, 'B': list2, 'C': list3})\n",
    "list4, list5, list6 = [10, 20], [30, 40], [50, 60]\n",
    "df2 = pd.DataFrame({'B': list1, 'C': list2, 'D': list3})\n",
    "pd.concat([df1, df2], join='inner')"
   ]
  },
  {
   "cell_type": "markdown",
   "metadata": {},
   "source": [
    "# 8 lesson\n",
    "\n",
    "# Lesson topic: Объединение наборов данных: слияние и соединение"
   ]
  },
  {
   "cell_type": "markdown",
   "metadata": {},
   "source": [
    "### Домашнее задание"
   ]
  },
  {
   "cell_type": "markdown",
   "metadata": {},
   "source": [
    "### Задача 1: ### Задача 1: Выполните слияние 2-х DataFrame, используя функцию pd.merge(), метод df1.merge(df2):\n",
    "\n",
    "zoo = pd.DataFrame([['elephant',1001, 500], ['elephant',1002, 600],['tiger',1003, 300], ['tiger',1004, 320], ['tiger',1005, 290],\n",
    "                         \n",
    "                         ['zebra',1006, 200], ['zebra',1007, 210], ['zebra',1008, 150], ['zebra',1009, 180], ['zebra',1010, 190],\n",
    "                         \n",
    "                         ['lion',1011, 420], ['lion',1012, 510], ['lion',1013, 530], ['lion',1014, 600],\n",
    "                         \n",
    "                         ['kangaroo',1015, 410], ['kangaroo',1016, 490]], columns=['animal', 'uniq_id', 'water_need'])\n",
    "\n",
    "zoo_eats = pd.DataFrame([['elephant','vegetables'], ['tiger','meat'], \n",
    "                        \n",
    "                        ['kangaroo','vegetables'], ['zebra','vegetables'], \n",
    "                        \n",
    "                        ['giraffe','vegetables']], columns=['animal', 'food'])"
   ]
  },
  {
   "cell_type": "code",
   "execution_count": 30,
   "metadata": {},
   "outputs": [
    {
     "data": {
      "text/html": [
       "<div>\n",
       "<style scoped>\n",
       "    .dataframe tbody tr th:only-of-type {\n",
       "        vertical-align: middle;\n",
       "    }\n",
       "\n",
       "    .dataframe tbody tr th {\n",
       "        vertical-align: top;\n",
       "    }\n",
       "\n",
       "    .dataframe thead th {\n",
       "        text-align: right;\n",
       "    }\n",
       "</style>\n",
       "<table border=\"1\" class=\"dataframe\">\n",
       "  <thead>\n",
       "    <tr style=\"text-align: right;\">\n",
       "      <th></th>\n",
       "      <th>animal</th>\n",
       "      <th>uniq_id</th>\n",
       "      <th>water_need</th>\n",
       "      <th>food</th>\n",
       "    </tr>\n",
       "  </thead>\n",
       "  <tbody>\n",
       "    <tr>\n",
       "      <th>0</th>\n",
       "      <td>elephant</td>\n",
       "      <td>1001</td>\n",
       "      <td>500</td>\n",
       "      <td>vegetables</td>\n",
       "    </tr>\n",
       "    <tr>\n",
       "      <th>1</th>\n",
       "      <td>elephant</td>\n",
       "      <td>1002</td>\n",
       "      <td>600</td>\n",
       "      <td>vegetables</td>\n",
       "    </tr>\n",
       "    <tr>\n",
       "      <th>2</th>\n",
       "      <td>tiger</td>\n",
       "      <td>1003</td>\n",
       "      <td>300</td>\n",
       "      <td>meat</td>\n",
       "    </tr>\n",
       "    <tr>\n",
       "      <th>3</th>\n",
       "      <td>tiger</td>\n",
       "      <td>1004</td>\n",
       "      <td>320</td>\n",
       "      <td>meat</td>\n",
       "    </tr>\n",
       "    <tr>\n",
       "      <th>4</th>\n",
       "      <td>tiger</td>\n",
       "      <td>1005</td>\n",
       "      <td>290</td>\n",
       "      <td>meat</td>\n",
       "    </tr>\n",
       "    <tr>\n",
       "      <th>5</th>\n",
       "      <td>zebra</td>\n",
       "      <td>1006</td>\n",
       "      <td>200</td>\n",
       "      <td>vegetables</td>\n",
       "    </tr>\n",
       "    <tr>\n",
       "      <th>6</th>\n",
       "      <td>zebra</td>\n",
       "      <td>1007</td>\n",
       "      <td>210</td>\n",
       "      <td>vegetables</td>\n",
       "    </tr>\n",
       "    <tr>\n",
       "      <th>7</th>\n",
       "      <td>zebra</td>\n",
       "      <td>1008</td>\n",
       "      <td>150</td>\n",
       "      <td>vegetables</td>\n",
       "    </tr>\n",
       "    <tr>\n",
       "      <th>8</th>\n",
       "      <td>zebra</td>\n",
       "      <td>1009</td>\n",
       "      <td>180</td>\n",
       "      <td>vegetables</td>\n",
       "    </tr>\n",
       "    <tr>\n",
       "      <th>9</th>\n",
       "      <td>zebra</td>\n",
       "      <td>1010</td>\n",
       "      <td>190</td>\n",
       "      <td>vegetables</td>\n",
       "    </tr>\n",
       "    <tr>\n",
       "      <th>10</th>\n",
       "      <td>kangaroo</td>\n",
       "      <td>1015</td>\n",
       "      <td>410</td>\n",
       "      <td>vegetables</td>\n",
       "    </tr>\n",
       "    <tr>\n",
       "      <th>11</th>\n",
       "      <td>kangaroo</td>\n",
       "      <td>1016</td>\n",
       "      <td>490</td>\n",
       "      <td>vegetables</td>\n",
       "    </tr>\n",
       "  </tbody>\n",
       "</table>\n",
       "</div>"
      ],
      "text/plain": [
       "      animal  uniq_id  water_need        food\n",
       "0   elephant     1001         500  vegetables\n",
       "1   elephant     1002         600  vegetables\n",
       "2      tiger     1003         300        meat\n",
       "3      tiger     1004         320        meat\n",
       "4      tiger     1005         290        meat\n",
       "5      zebra     1006         200  vegetables\n",
       "6      zebra     1007         210  vegetables\n",
       "7      zebra     1008         150  vegetables\n",
       "8      zebra     1009         180  vegetables\n",
       "9      zebra     1010         190  vegetables\n",
       "10  kangaroo     1015         410  vegetables\n",
       "11  kangaroo     1016         490  vegetables"
      ]
     },
     "execution_count": 30,
     "metadata": {},
     "output_type": "execute_result"
    }
   ],
   "source": [
    "zoo = pd.DataFrame([['elephant',1001, 500], ['elephant',1002, 600],['tiger',1003, 300], ['tiger',1004, 320], ['tiger',1005, 290],\n",
    "                     ['zebra',1006, 200], ['zebra',1007, 210], ['zebra',1008, 150], ['zebra',1009, 180], ['zebra',1010, 190],\n",
    "                     ['lion',1011, 420], ['lion',1012, 510], ['lion',1013, 530], ['lion',1014, 600],\n",
    "                     ['kangaroo',1015, 410], ['kangaroo',1016, 490]], columns=['animal', 'uniq_id', 'water_need'])\n",
    "zoo_eats = pd.DataFrame([['elephant','vegetables'], ['tiger','meat'],\n",
    "                    ['kangaroo','vegetables'], ['zebra','vegetables'], \n",
    "                    ['giraffe','vegetables']], columns=['animal', 'food'])\n",
    "\n",
    "pd.merge(zoo, zoo_eats)"
   ]
  },
  {
   "cell_type": "markdown",
   "metadata": {},
   "source": [
    "### Задача 2: Выполните слияние 2-х DataFrame, используя функцию pd.merge(), метод df1.merge(df2), \n",
    "\n",
    "### при помощи ключевого слова on"
   ]
  },
  {
   "cell_type": "code",
   "execution_count": 31,
   "metadata": {},
   "outputs": [
    {
     "data": {
      "text/html": [
       "<div>\n",
       "<style scoped>\n",
       "    .dataframe tbody tr th:only-of-type {\n",
       "        vertical-align: middle;\n",
       "    }\n",
       "\n",
       "    .dataframe tbody tr th {\n",
       "        vertical-align: top;\n",
       "    }\n",
       "\n",
       "    .dataframe thead th {\n",
       "        text-align: right;\n",
       "    }\n",
       "</style>\n",
       "<table border=\"1\" class=\"dataframe\">\n",
       "  <thead>\n",
       "    <tr style=\"text-align: right;\">\n",
       "      <th></th>\n",
       "      <th>animal</th>\n",
       "      <th>uniq_id</th>\n",
       "      <th>water_need</th>\n",
       "      <th>food</th>\n",
       "    </tr>\n",
       "  </thead>\n",
       "  <tbody>\n",
       "    <tr>\n",
       "      <th>0</th>\n",
       "      <td>elephant</td>\n",
       "      <td>1001</td>\n",
       "      <td>500</td>\n",
       "      <td>vegetables</td>\n",
       "    </tr>\n",
       "    <tr>\n",
       "      <th>1</th>\n",
       "      <td>elephant</td>\n",
       "      <td>1002</td>\n",
       "      <td>600</td>\n",
       "      <td>vegetables</td>\n",
       "    </tr>\n",
       "    <tr>\n",
       "      <th>2</th>\n",
       "      <td>tiger</td>\n",
       "      <td>1003</td>\n",
       "      <td>300</td>\n",
       "      <td>meat</td>\n",
       "    </tr>\n",
       "    <tr>\n",
       "      <th>3</th>\n",
       "      <td>tiger</td>\n",
       "      <td>1004</td>\n",
       "      <td>320</td>\n",
       "      <td>meat</td>\n",
       "    </tr>\n",
       "    <tr>\n",
       "      <th>4</th>\n",
       "      <td>tiger</td>\n",
       "      <td>1005</td>\n",
       "      <td>290</td>\n",
       "      <td>meat</td>\n",
       "    </tr>\n",
       "    <tr>\n",
       "      <th>5</th>\n",
       "      <td>zebra</td>\n",
       "      <td>1006</td>\n",
       "      <td>200</td>\n",
       "      <td>vegetables</td>\n",
       "    </tr>\n",
       "    <tr>\n",
       "      <th>6</th>\n",
       "      <td>zebra</td>\n",
       "      <td>1007</td>\n",
       "      <td>210</td>\n",
       "      <td>vegetables</td>\n",
       "    </tr>\n",
       "    <tr>\n",
       "      <th>7</th>\n",
       "      <td>zebra</td>\n",
       "      <td>1008</td>\n",
       "      <td>150</td>\n",
       "      <td>vegetables</td>\n",
       "    </tr>\n",
       "    <tr>\n",
       "      <th>8</th>\n",
       "      <td>zebra</td>\n",
       "      <td>1009</td>\n",
       "      <td>180</td>\n",
       "      <td>vegetables</td>\n",
       "    </tr>\n",
       "    <tr>\n",
       "      <th>9</th>\n",
       "      <td>zebra</td>\n",
       "      <td>1010</td>\n",
       "      <td>190</td>\n",
       "      <td>vegetables</td>\n",
       "    </tr>\n",
       "    <tr>\n",
       "      <th>10</th>\n",
       "      <td>kangaroo</td>\n",
       "      <td>1015</td>\n",
       "      <td>410</td>\n",
       "      <td>vegetables</td>\n",
       "    </tr>\n",
       "    <tr>\n",
       "      <th>11</th>\n",
       "      <td>kangaroo</td>\n",
       "      <td>1016</td>\n",
       "      <td>490</td>\n",
       "      <td>vegetables</td>\n",
       "    </tr>\n",
       "  </tbody>\n",
       "</table>\n",
       "</div>"
      ],
      "text/plain": [
       "      animal  uniq_id  water_need        food\n",
       "0   elephant     1001         500  vegetables\n",
       "1   elephant     1002         600  vegetables\n",
       "2      tiger     1003         300        meat\n",
       "3      tiger     1004         320        meat\n",
       "4      tiger     1005         290        meat\n",
       "5      zebra     1006         200  vegetables\n",
       "6      zebra     1007         210  vegetables\n",
       "7      zebra     1008         150  vegetables\n",
       "8      zebra     1009         180  vegetables\n",
       "9      zebra     1010         190  vegetables\n",
       "10  kangaroo     1015         410  vegetables\n",
       "11  kangaroo     1016         490  vegetables"
      ]
     },
     "execution_count": 31,
     "metadata": {},
     "output_type": "execute_result"
    }
   ],
   "source": [
    "pd.merge(zoo, zoo_eats, on='animal')"
   ]
  },
  {
   "cell_type": "markdown",
   "metadata": {},
   "source": [
    "### Задача 3: Выполните слияние 2-х DataFrame, используя функцию pd.merge(), метод df1.merge(df2), \n",
    "\n",
    "### используя ключевое слово how='right'"
   ]
  },
  {
   "cell_type": "code",
   "execution_count": 32,
   "metadata": {},
   "outputs": [
    {
     "data": {
      "text/html": [
       "<div>\n",
       "<style scoped>\n",
       "    .dataframe tbody tr th:only-of-type {\n",
       "        vertical-align: middle;\n",
       "    }\n",
       "\n",
       "    .dataframe tbody tr th {\n",
       "        vertical-align: top;\n",
       "    }\n",
       "\n",
       "    .dataframe thead th {\n",
       "        text-align: right;\n",
       "    }\n",
       "</style>\n",
       "<table border=\"1\" class=\"dataframe\">\n",
       "  <thead>\n",
       "    <tr style=\"text-align: right;\">\n",
       "      <th></th>\n",
       "      <th>animal</th>\n",
       "      <th>uniq_id</th>\n",
       "      <th>water_need</th>\n",
       "      <th>food</th>\n",
       "    </tr>\n",
       "  </thead>\n",
       "  <tbody>\n",
       "    <tr>\n",
       "      <th>0</th>\n",
       "      <td>elephant</td>\n",
       "      <td>1001.0</td>\n",
       "      <td>500.0</td>\n",
       "      <td>vegetables</td>\n",
       "    </tr>\n",
       "    <tr>\n",
       "      <th>1</th>\n",
       "      <td>elephant</td>\n",
       "      <td>1002.0</td>\n",
       "      <td>600.0</td>\n",
       "      <td>vegetables</td>\n",
       "    </tr>\n",
       "    <tr>\n",
       "      <th>2</th>\n",
       "      <td>tiger</td>\n",
       "      <td>1003.0</td>\n",
       "      <td>300.0</td>\n",
       "      <td>meat</td>\n",
       "    </tr>\n",
       "    <tr>\n",
       "      <th>3</th>\n",
       "      <td>tiger</td>\n",
       "      <td>1004.0</td>\n",
       "      <td>320.0</td>\n",
       "      <td>meat</td>\n",
       "    </tr>\n",
       "    <tr>\n",
       "      <th>4</th>\n",
       "      <td>tiger</td>\n",
       "      <td>1005.0</td>\n",
       "      <td>290.0</td>\n",
       "      <td>meat</td>\n",
       "    </tr>\n",
       "    <tr>\n",
       "      <th>5</th>\n",
       "      <td>kangaroo</td>\n",
       "      <td>1015.0</td>\n",
       "      <td>410.0</td>\n",
       "      <td>vegetables</td>\n",
       "    </tr>\n",
       "    <tr>\n",
       "      <th>6</th>\n",
       "      <td>kangaroo</td>\n",
       "      <td>1016.0</td>\n",
       "      <td>490.0</td>\n",
       "      <td>vegetables</td>\n",
       "    </tr>\n",
       "    <tr>\n",
       "      <th>7</th>\n",
       "      <td>zebra</td>\n",
       "      <td>1006.0</td>\n",
       "      <td>200.0</td>\n",
       "      <td>vegetables</td>\n",
       "    </tr>\n",
       "    <tr>\n",
       "      <th>8</th>\n",
       "      <td>zebra</td>\n",
       "      <td>1007.0</td>\n",
       "      <td>210.0</td>\n",
       "      <td>vegetables</td>\n",
       "    </tr>\n",
       "    <tr>\n",
       "      <th>9</th>\n",
       "      <td>zebra</td>\n",
       "      <td>1008.0</td>\n",
       "      <td>150.0</td>\n",
       "      <td>vegetables</td>\n",
       "    </tr>\n",
       "    <tr>\n",
       "      <th>10</th>\n",
       "      <td>zebra</td>\n",
       "      <td>1009.0</td>\n",
       "      <td>180.0</td>\n",
       "      <td>vegetables</td>\n",
       "    </tr>\n",
       "    <tr>\n",
       "      <th>11</th>\n",
       "      <td>zebra</td>\n",
       "      <td>1010.0</td>\n",
       "      <td>190.0</td>\n",
       "      <td>vegetables</td>\n",
       "    </tr>\n",
       "    <tr>\n",
       "      <th>12</th>\n",
       "      <td>giraffe</td>\n",
       "      <td>NaN</td>\n",
       "      <td>NaN</td>\n",
       "      <td>vegetables</td>\n",
       "    </tr>\n",
       "  </tbody>\n",
       "</table>\n",
       "</div>"
      ],
      "text/plain": [
       "      animal  uniq_id  water_need        food\n",
       "0   elephant   1001.0       500.0  vegetables\n",
       "1   elephant   1002.0       600.0  vegetables\n",
       "2      tiger   1003.0       300.0        meat\n",
       "3      tiger   1004.0       320.0        meat\n",
       "4      tiger   1005.0       290.0        meat\n",
       "5   kangaroo   1015.0       410.0  vegetables\n",
       "6   kangaroo   1016.0       490.0  vegetables\n",
       "7      zebra   1006.0       200.0  vegetables\n",
       "8      zebra   1007.0       210.0  vegetables\n",
       "9      zebra   1008.0       150.0  vegetables\n",
       "10     zebra   1009.0       180.0  vegetables\n",
       "11     zebra   1010.0       190.0  vegetables\n",
       "12   giraffe      NaN         NaN  vegetables"
      ]
     },
     "execution_count": 32,
     "metadata": {},
     "output_type": "execute_result"
    }
   ],
   "source": [
    "pd.merge(zoo, zoo_eats, how='right')"
   ]
  },
  {
   "cell_type": "markdown",
   "metadata": {},
   "source": [
    "# 9 lesson\n",
    "\n",
    "# Lesson topic: Агрегирование и группировка"
   ]
  },
  {
   "cell_type": "markdown",
   "metadata": {},
   "source": [
    "### Домашнее задание"
   ]
  },
  {
   "cell_type": "markdown",
   "metadata": {},
   "source": [
    "### Задача 1: Дан DataFrame df.\n",
    "\n",
    "### Выполните groupby по 'Maths', после этого выполните aggregate по списку ['min', np.median, max].\n",
    "\n",
    "### Выполните groupby по 'Maths', после этого выполните aggregate по словарю {'Maths': 'min', 'Science': 'max'}.\n",
    "\n",
    "df = pd.DataFrame([[3, 4, 5, 2], \n",
    "                   \n",
    "                   [4, 3, 4, 5], \n",
    "                   \n",
    "                   [5, 2, 5, 4]], \n",
    "                   \n",
    "                   columns=['Maths',  'English',  \n",
    "                           \n",
    "                           'Science', 'History']) "
   ]
  },
  {
   "cell_type": "code",
   "execution_count": 33,
   "metadata": {},
   "outputs": [
    {
     "name": "stderr",
     "output_type": "stream",
     "text": [
      "C:\\Tempos\\ipykernel_20964\\2906112076.py:6: FutureWarning: The provided callable <function median at 0x00000190943AA660> is currently using SeriesGroupBy.median. In a future version of pandas, the provided callable will be used directly. To keep current behavior pass the string \"median\" instead.\n",
      "  df.groupby('Maths').aggregate([\"min\", np.median, \"max\"])\n"
     ]
    },
    {
     "data": {
      "text/html": [
       "<div>\n",
       "<style scoped>\n",
       "    .dataframe tbody tr th:only-of-type {\n",
       "        vertical-align: middle;\n",
       "    }\n",
       "\n",
       "    .dataframe tbody tr th {\n",
       "        vertical-align: top;\n",
       "    }\n",
       "\n",
       "    .dataframe thead tr th {\n",
       "        text-align: left;\n",
       "    }\n",
       "\n",
       "    .dataframe thead tr:last-of-type th {\n",
       "        text-align: right;\n",
       "    }\n",
       "</style>\n",
       "<table border=\"1\" class=\"dataframe\">\n",
       "  <thead>\n",
       "    <tr>\n",
       "      <th></th>\n",
       "      <th colspan=\"3\" halign=\"left\">English</th>\n",
       "      <th colspan=\"3\" halign=\"left\">Science</th>\n",
       "      <th colspan=\"3\" halign=\"left\">History</th>\n",
       "    </tr>\n",
       "    <tr>\n",
       "      <th></th>\n",
       "      <th>min</th>\n",
       "      <th>median</th>\n",
       "      <th>max</th>\n",
       "      <th>min</th>\n",
       "      <th>median</th>\n",
       "      <th>max</th>\n",
       "      <th>min</th>\n",
       "      <th>median</th>\n",
       "      <th>max</th>\n",
       "    </tr>\n",
       "    <tr>\n",
       "      <th>Maths</th>\n",
       "      <th></th>\n",
       "      <th></th>\n",
       "      <th></th>\n",
       "      <th></th>\n",
       "      <th></th>\n",
       "      <th></th>\n",
       "      <th></th>\n",
       "      <th></th>\n",
       "      <th></th>\n",
       "    </tr>\n",
       "  </thead>\n",
       "  <tbody>\n",
       "    <tr>\n",
       "      <th>3</th>\n",
       "      <td>4</td>\n",
       "      <td>4.0</td>\n",
       "      <td>4</td>\n",
       "      <td>5</td>\n",
       "      <td>5.0</td>\n",
       "      <td>5</td>\n",
       "      <td>2</td>\n",
       "      <td>2.0</td>\n",
       "      <td>2</td>\n",
       "    </tr>\n",
       "    <tr>\n",
       "      <th>4</th>\n",
       "      <td>3</td>\n",
       "      <td>3.0</td>\n",
       "      <td>3</td>\n",
       "      <td>4</td>\n",
       "      <td>4.0</td>\n",
       "      <td>4</td>\n",
       "      <td>5</td>\n",
       "      <td>5.0</td>\n",
       "      <td>5</td>\n",
       "    </tr>\n",
       "    <tr>\n",
       "      <th>5</th>\n",
       "      <td>2</td>\n",
       "      <td>2.0</td>\n",
       "      <td>2</td>\n",
       "      <td>5</td>\n",
       "      <td>5.0</td>\n",
       "      <td>5</td>\n",
       "      <td>4</td>\n",
       "      <td>4.0</td>\n",
       "      <td>4</td>\n",
       "    </tr>\n",
       "  </tbody>\n",
       "</table>\n",
       "</div>"
      ],
      "text/plain": [
       "      English            Science            History           \n",
       "          min median max     min median max     min median max\n",
       "Maths                                                         \n",
       "3           4    4.0   4       5    5.0   5       2    2.0   2\n",
       "4           3    3.0   3       4    4.0   4       5    5.0   5\n",
       "5           2    2.0   2       5    5.0   5       4    4.0   4"
      ]
     },
     "execution_count": 33,
     "metadata": {},
     "output_type": "execute_result"
    }
   ],
   "source": [
    "df = pd.DataFrame([[3, 4, 5, 2],\n",
    "                    [4, 3, 4, 5], \n",
    "                   [5, 2, 5, 4]], \n",
    "                  columns=['Maths',  'English',\n",
    "                           'Science', 'History']) \n",
    "df.groupby('Maths').aggregate([\"min\", np.median, \"max\"])"
   ]
  },
  {
   "cell_type": "code",
   "execution_count": 34,
   "metadata": {},
   "outputs": [
    {
     "data": {
      "text/html": [
       "<div>\n",
       "<style scoped>\n",
       "    .dataframe tbody tr th:only-of-type {\n",
       "        vertical-align: middle;\n",
       "    }\n",
       "\n",
       "    .dataframe tbody tr th {\n",
       "        vertical-align: top;\n",
       "    }\n",
       "\n",
       "    .dataframe thead th {\n",
       "        text-align: right;\n",
       "    }\n",
       "</style>\n",
       "<table border=\"1\" class=\"dataframe\">\n",
       "  <thead>\n",
       "    <tr style=\"text-align: right;\">\n",
       "      <th></th>\n",
       "      <th>Maths</th>\n",
       "      <th>Science</th>\n",
       "    </tr>\n",
       "    <tr>\n",
       "      <th>Maths</th>\n",
       "      <th></th>\n",
       "      <th></th>\n",
       "    </tr>\n",
       "  </thead>\n",
       "  <tbody>\n",
       "    <tr>\n",
       "      <th>3</th>\n",
       "      <td>3</td>\n",
       "      <td>5</td>\n",
       "    </tr>\n",
       "    <tr>\n",
       "      <th>4</th>\n",
       "      <td>4</td>\n",
       "      <td>4</td>\n",
       "    </tr>\n",
       "    <tr>\n",
       "      <th>5</th>\n",
       "      <td>5</td>\n",
       "      <td>5</td>\n",
       "    </tr>\n",
       "  </tbody>\n",
       "</table>\n",
       "</div>"
      ],
      "text/plain": [
       "       Maths  Science\n",
       "Maths                \n",
       "3          3        5\n",
       "4          4        4\n",
       "5          5        5"
      ]
     },
     "execution_count": 34,
     "metadata": {},
     "output_type": "execute_result"
    }
   ],
   "source": [
    "df.groupby('Maths').aggregate({'Maths': 'min',\n",
    "                               'Science': 'max'})"
   ]
  },
  {
   "cell_type": "markdown",
   "metadata": {},
   "source": [
    "### Задача 2: Дан словать data. Создайте из него DataFrame.\n",
    "\n",
    "### После этого выполните groupby по \"City\". После этого выполните фильтрацию по условию x[\"City\"] == \"SPb\".\n",
    "\n",
    "data = {\n",
    "    \n",
    "    \"Student_Name\": [\"Ivan\", \"Petr\", \"Valentina\", \"Masha\", \"Kirill\"],\n",
    "    \n",
    "    \"City\": [\"Moscow\", \"SPb\", \"Moscow\", \"Kazan\", \"Kazan\"],\n",
    "    \n",
    "    \"Biology\": [3, 4, 5, 4, 5],\n",
    "    \n",
    "    \"Chemistry\": [4, 5, 3, 5, 4],\n",
    "\n",
    "}"
   ]
  },
  {
   "cell_type": "code",
   "execution_count": 35,
   "metadata": {},
   "outputs": [
    {
     "data": {
      "text/html": [
       "<div>\n",
       "<style scoped>\n",
       "    .dataframe tbody tr th:only-of-type {\n",
       "        vertical-align: middle;\n",
       "    }\n",
       "\n",
       "    .dataframe tbody tr th {\n",
       "        vertical-align: top;\n",
       "    }\n",
       "\n",
       "    .dataframe thead th {\n",
       "        text-align: right;\n",
       "    }\n",
       "</style>\n",
       "<table border=\"1\" class=\"dataframe\">\n",
       "  <thead>\n",
       "    <tr style=\"text-align: right;\">\n",
       "      <th></th>\n",
       "      <th>Student_Name</th>\n",
       "      <th>City</th>\n",
       "      <th>Biology</th>\n",
       "      <th>Chemistry</th>\n",
       "    </tr>\n",
       "  </thead>\n",
       "  <tbody>\n",
       "    <tr>\n",
       "      <th>1</th>\n",
       "      <td>Petr</td>\n",
       "      <td>SPb</td>\n",
       "      <td>4</td>\n",
       "      <td>5</td>\n",
       "    </tr>\n",
       "  </tbody>\n",
       "</table>\n",
       "</div>"
      ],
      "text/plain": [
       "  Student_Name City  Biology  Chemistry\n",
       "1         Petr  SPb        4          5"
      ]
     },
     "execution_count": 35,
     "metadata": {},
     "output_type": "execute_result"
    }
   ],
   "source": [
    "data = {\"Student_Name\": [\"Ivan\", \"Petr\", \"Valentina\", \"Masha\", \"Kirill\"],\n",
    "        \"City\": [\"Moscow\", \"SPb\", \"Moscow\", \"Kazan\", \"Kazan\"],\n",
    "        \"Biology\": [3, 4, 5, 4, 5],\n",
    "        \"Chemistry\": [4, 5, 3, 5, 4]}\n",
    "\n",
    "df = pd.DataFrame(data)\n",
    "\n",
    "df.groupby(\"City\").filter(lambda x: x[\"City\"].iloc[0] == \"SPb\")"
   ]
  },
  {
   "cell_type": "markdown",
   "metadata": {},
   "source": [
    "### Задача 3: Дан словать data. Создайте из него DataFrame.\n",
    "\n",
    "### После этого выполните groupby по \"City\". После этого выполните фильтрацию по условию x[\"Biology\"] == 5\n",
    "\n",
    "data = {\n",
    "\n",
    "    \n",
    "    \"Student_Name\": [\"Ivan\", \"Petr\", \"Valentina\", \"Masha\", \"Kirill\"],\n",
    "    \n",
    "    \"City\": [\"Moscow\", \"SPb\", \"Moscow\", \"Kazan\", \"Kazan\"],\n",
    "    \n",
    "    \"Biology\": [3, 4, 5, 4, 5],\n",
    "    \n",
    "    \"Chemistry\": [4, 5, 3, 5, 4],\n",
    "\n",
    "}"
   ]
  },
  {
   "cell_type": "code",
   "execution_count": 36,
   "metadata": {},
   "outputs": [
    {
     "data": {
      "text/html": [
       "<div>\n",
       "<style scoped>\n",
       "    .dataframe tbody tr th:only-of-type {\n",
       "        vertical-align: middle;\n",
       "    }\n",
       "\n",
       "    .dataframe tbody tr th {\n",
       "        vertical-align: top;\n",
       "    }\n",
       "\n",
       "    .dataframe thead th {\n",
       "        text-align: right;\n",
       "    }\n",
       "</style>\n",
       "<table border=\"1\" class=\"dataframe\">\n",
       "  <thead>\n",
       "    <tr style=\"text-align: right;\">\n",
       "      <th></th>\n",
       "      <th>Student_Name</th>\n",
       "      <th>City</th>\n",
       "      <th>Biology</th>\n",
       "      <th>Chemistry</th>\n",
       "    </tr>\n",
       "  </thead>\n",
       "  <tbody>\n",
       "    <tr>\n",
       "      <th>2</th>\n",
       "      <td>Valentina</td>\n",
       "      <td>Moscow</td>\n",
       "      <td>5</td>\n",
       "      <td>3</td>\n",
       "    </tr>\n",
       "    <tr>\n",
       "      <th>4</th>\n",
       "      <td>Kirill</td>\n",
       "      <td>Kazan</td>\n",
       "      <td>5</td>\n",
       "      <td>4</td>\n",
       "    </tr>\n",
       "  </tbody>\n",
       "</table>\n",
       "</div>"
      ],
      "text/plain": [
       "  Student_Name    City  Biology  Chemistry\n",
       "2    Valentina  Moscow        5          3\n",
       "4       Kirill   Kazan        5          4"
      ]
     },
     "execution_count": 36,
     "metadata": {},
     "output_type": "execute_result"
    }
   ],
   "source": [
    "data = {\"Student_Name\": [\"Ivan\", \"Petr\", \"Valentina\", \"Masha\", \"Kirill\"],\n",
    "        \"City\": [\"Moscow\", \"SPb\", \"Moscow\", \"Kazan\", \"Kazan\"],\n",
    "        \"Biology\": [3, 4, 5, 4, 5],\n",
    "        \"Chemistry\": [4, 5, 3, 5, 4]}\n",
    "\n",
    "df = pd.DataFrame(data) \n",
    "df[df[\"Biology\"] == 5]\n",
    "# df.groupby(\"City\").filter(lambda x: (x[\"Biology\"] == 5).any())"
   ]
  },
  {
   "cell_type": "markdown",
   "metadata": {},
   "source": [
    "# 11 lesson\n",
    "\n",
    "# Lesson topic: Векторизованные операции над строками"
   ]
  },
  {
   "cell_type": "markdown",
   "metadata": {
    "jp-MarkdownHeadingCollapsed": true
   },
   "source": [
    "### Домашнее задание"
   ]
  },
  {
   "cell_type": "markdown",
   "metadata": {},
   "source": [
    "### Задача 1: Создайте объект Series из списка list.\n",
    "\n",
    "list = ['foo', 'fuz', np.nan]\n",
    "\n",
    "### Если слово в созданной Series начинается с символа 'f', замените этот символ на строку 'ba'."
   ]
  },
  {
   "cell_type": "code",
   "execution_count": 37,
   "metadata": {},
   "outputs": [
    {
     "data": {
      "text/plain": [
       "0    baoof\n",
       "1     bauz\n",
       "2      NaN\n",
       "dtype: object"
      ]
     },
     "execution_count": 37,
     "metadata": {},
     "output_type": "execute_result"
    }
   ],
   "source": [
    "list_ = ['foof', 'fuz', np.nan]\n",
    "data = pd.Series(list_)\n",
    "pd.Series(list_).str.replace(r'^f', 'ba', regex=True)"
   ]
  },
  {
   "cell_type": "markdown",
   "metadata": {},
   "source": [
    "### Задача 2: Создайте объект Series из списка list.\n",
    "\n",
    "list = ['Lion', 'Monkey', 'Rabbit']\n",
    "\n",
    "### Поиск слова по шаблону: если слово в созданной Series 'Monkey', выведите его.\n",
    "\n",
    "### Другие слова не должны выводиться."
   ]
  },
  {
   "cell_type": "code",
   "execution_count": 38,
   "metadata": {},
   "outputs": [
    {
     "data": {
      "text/plain": [
       "0          []\n",
       "1    [Monkey]\n",
       "2          []\n",
       "dtype: object"
      ]
     },
     "execution_count": 38,
     "metadata": {},
     "output_type": "execute_result"
    }
   ],
   "source": [
    "list_ = ['Lion', 'Monkey', 'Rabbit']\n",
    "data = pd.Series(list_)\n",
    "data.str.findall(\"Monkey\")"
   ]
  },
  {
   "cell_type": "markdown",
   "metadata": {},
   "source": [
    "### Задача 3: Создайте объект Series из списка list.\n",
    "\n",
    "list = ['Иван Петров', \n",
    "        \n",
    "        'Светлана Пушкина', \n",
    "        \n",
    "        'василий Сидоров',\n",
    "        \n",
    "        'Татьяна ларина', \n",
    "        \n",
    "        'Фёдор Онегин', \n",
    "        \n",
    "        'сергей кукушкин']\n",
    "\n",
    "### Выведите на экран список всех фамилий людей из списка (первая буква фамилии должна быть заглавная).\n",
    "\n",
    "### Выведите на экран список всех имён людей из списка (первая буква имени должна быть заглавная)."
   ]
  },
  {
   "cell_type": "code",
   "execution_count": 39,
   "metadata": {},
   "outputs": [
    {
     "data": {
      "text/plain": [
       "0      Петров\n",
       "1     Пушкина\n",
       "2     Сидоров\n",
       "3      Ларина\n",
       "4      Онегин\n",
       "5    Кукушкин\n",
       "dtype: object"
      ]
     },
     "execution_count": 39,
     "metadata": {},
     "output_type": "execute_result"
    }
   ],
   "source": [
    "list_ = ['Иван Петров',\n",
    "        'Светлана Пушкина', \n",
    "        'василий Сидоров',\n",
    "        'Татьяна ларина', \n",
    "        'Фёдор Онегин', \n",
    "        'сергей кукушкин']\n",
    "\n",
    "pd.Series(list_).str.split().str[-1].str.capitalize()"
   ]
  },
  {
   "cell_type": "code",
   "execution_count": 40,
   "metadata": {},
   "outputs": [
    {
     "data": {
      "text/plain": [
       "0        Иван\n",
       "1    Светлана\n",
       "2     Василий\n",
       "3     Татьяна\n",
       "4       Фёдор\n",
       "5      Сергей\n",
       "dtype: object"
      ]
     },
     "execution_count": 40,
     "metadata": {},
     "output_type": "execute_result"
    }
   ],
   "source": [
    "pd.Series(list_).str.split().str[0].str.capitalize()"
   ]
  }
 ],
 "metadata": {
  "kernelspec": {
   "display_name": "Python 3 (ipykernel)",
   "language": "python",
   "name": "python3"
  },
  "language_info": {
   "codemirror_mode": {
    "name": "ipython",
    "version": 3
   },
   "file_extension": ".py",
   "mimetype": "text/x-python",
   "name": "python",
   "nbconvert_exporter": "python",
   "pygments_lexer": "ipython3",
   "version": "3.12.0"
  }
 },
 "nbformat": 4,
 "nbformat_minor": 4
}
