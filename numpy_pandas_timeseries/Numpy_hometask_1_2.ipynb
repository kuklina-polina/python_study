{
 "cells": [
  {
   "cell_type": "markdown",
   "id": "039bc774-3242-49de-8453-301fa26aeda3",
   "metadata": {},
   "source": [
    "## Kuklina Polina\n",
    "\n",
    "______________"
   ]
  },
  {
   "cell_type": "markdown",
   "id": "dad4f490-ea34-47b2-94cc-e85b6fb28afe",
   "metadata": {},
   "source": [
    "# 1 lesson\n",
    "\n",
    "# Lesson topic: Работа с типами данных в языке Python"
   ]
  },
  {
   "cell_type": "markdown",
   "id": "c8f4c22c-9c7b-4780-bf52-c0efa794bb58",
   "metadata": {},
   "source": [
    "### Домашнее задание"
   ]
  },
  {
   "cell_type": "code",
   "execution_count": 6,
   "id": "ab01ebca-cb29-489c-92b0-6c15e29de675",
   "metadata": {},
   "outputs": [],
   "source": [
    "import array, numpy as np"
   ]
  },
  {
   "cell_type": "markdown",
   "id": "1e3f51f8-660e-485e-a3d2-0cb12fe0ce7e",
   "metadata": {},
   "source": [
    "### Задача 1: Создайте одномерный массив из 5 целых чисел от 0 до 4.\n",
    "\n",
    "Sample Input:\n",
    "\n",
    "Sample Output:\n",
    "\n",
    "[0 1 2 3 4]"
   ]
  },
  {
   "cell_type": "code",
   "execution_count": 7,
   "id": "ed47b99f-5850-44c6-bfff-39a8c90e6494",
   "metadata": {},
   "outputs": [
    {
     "data": {
      "text/plain": [
       "array([0, 1, 2, 3, 4])"
      ]
     },
     "execution_count": 7,
     "metadata": {},
     "output_type": "execute_result"
    }
   ],
   "source": [
    "np.array(range(5))"
   ]
  },
  {
   "cell_type": "markdown",
   "id": "038db20a-e9b2-4fca-8b8a-78bf9e7c9ed2",
   "metadata": {},
   "source": [
    "### Задача 2: Создайте массив размером 3x2, заполненный единицами."
   ]
  },
  {
   "cell_type": "code",
   "execution_count": 11,
   "id": "c9ef9986-5098-4b23-ad2f-bc06635e691a",
   "metadata": {},
   "outputs": [
    {
     "data": {
      "text/plain": [
       "array([[1, 1],\n",
       "       [1, 1],\n",
       "       [1, 1]])"
      ]
     },
     "execution_count": 11,
     "metadata": {},
     "output_type": "execute_result"
    }
   ],
   "source": [
    "np.ones((3, 2), dtype = int)"
   ]
  },
  {
   "cell_type": "markdown",
   "id": "8629a7dd-b6c3-45d8-ba4c-4766fd7ce6b2",
   "metadata": {},
   "source": [
    "### Задача 3: Создайте массив размером 2x3, заполненного значением 7."
   ]
  },
  {
   "cell_type": "code",
   "execution_count": 12,
   "id": "2f3801a1-6867-4586-82b1-cf4e16532a1d",
   "metadata": {},
   "outputs": [
    {
     "data": {
      "text/plain": [
       "array([[7, 7, 7],\n",
       "       [7, 7, 7]])"
      ]
     },
     "execution_count": 12,
     "metadata": {},
     "output_type": "execute_result"
    }
   ],
   "source": [
    "np.full((2, 3), 7)"
   ]
  },
  {
   "cell_type": "markdown",
   "id": "cc91c89a-f6f4-40ce-b1bb-01d628ee5e1b",
   "metadata": {},
   "source": [
    "### Задача 4: Создайте массив из 5 строк и 2 столбцов, содержащий только булевы значения True.\n",
    "\n",
    "Sample Input:\n",
    "\n",
    "Sample Output:\n",
    "\n",
    "[[ True  True]\n",
    " \n",
    " [ True  True]\n",
    " \n",
    " [ True  True]\n",
    " \n",
    " [ True  True]\n",
    " \n",
    " [ True  True]]"
   ]
  },
  {
   "cell_type": "code",
   "execution_count": 13,
   "id": "d68fbac3-4567-49be-8e76-825da6d81020",
   "metadata": {},
   "outputs": [
    {
     "data": {
      "text/plain": [
       "array([[ True,  True],\n",
       "       [ True,  True],\n",
       "       [ True,  True],\n",
       "       [ True,  True],\n",
       "       [ True,  True]])"
      ]
     },
     "execution_count": 13,
     "metadata": {},
     "output_type": "execute_result"
    }
   ],
   "source": [
    "np.full((5, 2), True)"
   ]
  },
  {
   "cell_type": "markdown",
   "id": "27cc821c-4b1a-4f25-a1d7-0e826a263cef",
   "metadata": {},
   "source": [
    "### Задача 5: Как создать массив из 5 равномерно распределенных значений между 0 и 1 с использованием np.linspace()?\n",
    "\n",
    "● np.linspace((0, 1), 5)\n",
    "\n",
    "● np.linspace(0, 1, 5)\n",
    "\n",
    "● np.linspace(0, 1, step=5)\n",
    "\n",
    "● np.linspace([0, 1], 5)"
   ]
  },
  {
   "cell_type": "code",
   "execution_count": 14,
   "id": "c5447cc7-2d60-467f-9ec9-55b8e85dcdab",
   "metadata": {},
   "outputs": [
    {
     "data": {
      "text/plain": [
       "array([0.  , 0.25, 0.5 , 0.75, 1.  ])"
      ]
     },
     "execution_count": 14,
     "metadata": {},
     "output_type": "execute_result"
    }
   ],
   "source": [
    "np.linspace(0, 1, 5)"
   ]
  },
  {
   "cell_type": "markdown",
   "id": "2c7da469-c753-4cbb-acfb-d6acb0578975",
   "metadata": {},
   "source": [
    "# 2 lesson\n",
    "\n",
    "# Lesson topic: Введение в массивы библиотеки NumPy"
   ]
  },
  {
   "cell_type": "markdown",
   "id": "812d9435-4eaa-435c-b42a-44a6de289ec8",
   "metadata": {},
   "source": [
    "### Домашнее задание"
   ]
  },
  {
   "cell_type": "markdown",
   "id": "9881d4f9-2e46-4c08-9014-302e1fd371ec",
   "metadata": {},
   "source": [
    "### Задача 1: Создайте трехмерный массив (каждый массив должен содержать две строки и четыре столбца) и определите его количество измерений.\n",
    "\n",
    "Sample Input:\n",
    "\n",
    "Sample Output:\n",
    "\n",
    "[[[0. 0. 0. 0.]\n",
    "  \n",
    "  [0. 0. 0. 0.]]\n",
    "\n",
    " [[0. 0. 0. 0.]\n",
    "  \n",
    "  [0. 0. 0. 0.]]\n",
    "\n",
    " [[0. 0. 0. 0.]\n",
    "  \n",
    "  [0. 0. 0. 0.]]]\n",
    "\n",
    "Количество измерений: 3"
   ]
  },
  {
   "cell_type": "code",
   "execution_count": 25,
   "id": "8a136cd9-d6d2-493a-94e5-7562c6f92389",
   "metadata": {},
   "outputs": [
    {
     "name": "stdout",
     "output_type": "stream",
     "text": [
      "[[[None None None None]\n",
      "  [None None None None]]\n",
      "\n",
      " [[None None None None]\n",
      "  [None None None None]]\n",
      "\n",
      " [[None None None None]\n",
      "  [None None None None]]]\n",
      "Количество измерений: 3\n"
     ]
    }
   ],
   "source": [
    "mass = np.full((3, 2, 4), None)\n",
    "print(mass)\n",
    "print(f\"Количество измерений: {mass.ndim}\")"
   ]
  },
  {
   "cell_type": "markdown",
   "id": "fd361c24-4aa5-4c77-8de8-9e27fed56e1c",
   "metadata": {},
   "source": [
    "### Задача 2: Вы хотите создать массив arr с числами от 1 до 3, включительно, и указать явно тип данных целых чисел.\n",
    "\n",
    "Sample Input:\n",
    "\n",
    "Sample Output:\n",
    "\n",
    "Массив целых чисел: [1 2 3]\n",
    "\n",
    "Тип данных: int64"
   ]
  },
  {
   "cell_type": "code",
   "execution_count": 30,
   "id": "9dfd28fc-c74b-447c-8152-92797911c80d",
   "metadata": {},
   "outputs": [
    {
     "name": "stdout",
     "output_type": "stream",
     "text": [
      "Массив целых чисел: [1 2 3]\n",
      "Тип данных: int64\n"
     ]
    }
   ],
   "source": [
    "arr = np.array(range(1,4))\n",
    "print(f\"Массив целых чисел: {arr}\")\n",
    "print(f\"Тип данных: {arr.dtype}\")"
   ]
  },
  {
   "cell_type": "markdown",
   "id": "764c803e-6875-4b99-b280-875e3b04e185",
   "metadata": {},
   "source": [
    "### Задача 3: Выведите все элементы в нечетных столбцах.\n",
    "\n",
    "Sample Input:\n",
    "\n",
    "arr = np.array([[1, 2, 3, 4],\n",
    "                \n",
    "            [5, 6, 7, 8],\n",
    "                \n",
    "            [9, 10, 11, 12],\n",
    "                \n",
    "            [13, 14, 15, 16]])\n",
    "\n",
    "Sample Output:\n",
    "\n",
    "Элементы с нечетными столбцами:\n",
    "[[ 1  3]\n",
    " \n",
    " [ 5  7]\n",
    " \n",
    " [ 9 11]\n",
    " \n",
    " [13 15]]"
   ]
  },
  {
   "cell_type": "code",
   "execution_count": 35,
   "id": "aea9f031-7158-4da3-9a9a-51fe7dd33bc5",
   "metadata": {},
   "outputs": [
    {
     "name": "stdout",
     "output_type": "stream",
     "text": [
      "Элементы с нечетными столбцами: [[ 1  3]\n",
      " [ 5  7]\n",
      " [ 9 11]\n",
      " [13 15]]\n"
     ]
    }
   ],
   "source": [
    "arr = np.array([[1, 2, 3, 4],\n",
    "                [5, 6, 7, 8],\n",
    "                [9, 10, 11, 12],\n",
    "                [13, 14, 15, 16]])\n",
    "print(f\"Элементы с нечетными столбцами: {arr[:, ::2]}\") "
   ]
  },
  {
   "cell_type": "markdown",
   "id": "7b68ae3c-33a3-4992-b8b9-9fecf063c780",
   "metadata": {},
   "source": [
    "### Задача 4: Выделите подматрицу, состоящую из второй и третьей строк, а также третьего и четвёртого столбцов.\n",
    "\n",
    "Sample Input:\n",
    "\n",
    "matrix = np.array([[1, 2, 3, 4],\n",
    "                \n",
    "                [5, 6, 7, 8],\n",
    "                \n",
    "                [9, 10, 11, 12],\n",
    "                \n",
    "                [13, 14, 15, 16]])\n",
    "\n",
    "Sample Output:\n",
    "\n",
    "Матрица из второй и третьей строк, а также третьего и четвёртого столбцов:\n",
    "\n",
    "[[ 7  8]\n",
    " \n",
    " [11 12]]"
   ]
  },
  {
   "cell_type": "code",
   "execution_count": 40,
   "id": "bd672754-4c6d-40da-87ff-b30f59daec2d",
   "metadata": {},
   "outputs": [
    {
     "name": "stdout",
     "output_type": "stream",
     "text": [
      "Матрица из второй и третьей строк, а также третьего и четвёртого столбцов: \n",
      "[[ 7  8]\n",
      " [11 12]]\n"
     ]
    }
   ],
   "source": [
    "matrix = np.array([[1, 2, 3, 4],\n",
    "                   [5, 6, 7, 8],\n",
    "                   [9, 10, 11, 12],\n",
    "                   [13, 14, 15, 16]])\n",
    "print(f\"Матрица из второй и третьей строк, а также третьего и четвёртого столбцов: \\n{arr[1:3, 2:5]}\") "
   ]
  },
  {
   "cell_type": "markdown",
   "id": "72bfa9fe-7f3d-41d1-9a05-5d74142eea06",
   "metadata": {},
   "source": [
    "### Задача 5: Выберите подматрицу 2x2 в верхнем левом углу для каждой матрицы\n",
    "\n",
    "Sample Input:\n",
    "\n",
    "tensor = np.array([[[1, 2, 3],\n",
    "                \n",
    "                [4, 5, 6],\n",
    "                \n",
    "                [7, 8, 9]],\n",
    "\n",
    "                \n",
    "                [[10, 11, 12],\n",
    "                \n",
    "                [13, 14, 15],\n",
    "                \n",
    "                [16, 17, 18]],\n",
    "\n",
    "                \n",
    "                [[19, 20, 21],\n",
    "                \n",
    "                [22, 23, 24],\n",
    "                \n",
    "                [25, 26, 27]]])\n",
    "\n",
    "Sample Output:\n",
    "\n",
    "Подматрица 2x2 в верхнем левом углу для каждой матрицы:\n",
    "\n",
    "[[[ 1  2]\n",
    "  \n",
    "  [ 4  5]]\n",
    "\n",
    " [[10 11]\n",
    "  \n",
    "  [13 14]]\n",
    "\n",
    " [[19 20]\n",
    "  \n",
    "  [22 23]]]"
   ]
  },
  {
   "cell_type": "code",
   "execution_count": 42,
   "id": "38c35855-4de0-4edc-a5c6-5437eef5c9f9",
   "metadata": {},
   "outputs": [
    {
     "name": "stdout",
     "output_type": "stream",
     "text": [
      "Подматрица 2x2 в верхнем левом углу для каждой матрицы:: \n",
      "[[[ 1  2]\n",
      "  [ 4  5]]\n",
      "\n",
      " [[10 11]\n",
      "  [13 14]]\n",
      "\n",
      " [[19 20]\n",
      "  [22 23]]]\n"
     ]
    }
   ],
   "source": [
    "tensor = np.array([[[1, 2, 3],\n",
    "                    [4, 5, 6],\n",
    "                    [7, 8, 9]],\n",
    "                   [[10, 11, 12],\n",
    "                    [13, 14, 15],\n",
    "                    [16, 17, 18]],\n",
    "                   [[19, 20, 21],\n",
    "                    [22, 23, 24],\n",
    "                    [25, 26, 27]]])\n",
    "\n",
    "print(f\"Подматрица 2x2 в верхнем левом углу для каждой матрицы:: \\n{tensor[:, 0:2, 0:2]}\") "
   ]
  }
 ],
 "metadata": {
  "kernelspec": {
   "display_name": "Python 3 (ipykernel)",
   "language": "python",
   "name": "python3"
  },
  "language_info": {
   "codemirror_mode": {
    "name": "ipython",
    "version": 3
   },
   "file_extension": ".py",
   "mimetype": "text/x-python",
   "name": "python",
   "nbconvert_exporter": "python",
   "pygments_lexer": "ipython3",
   "version": "3.12.0"
  }
 },
 "nbformat": 4,
 "nbformat_minor": 5
}
